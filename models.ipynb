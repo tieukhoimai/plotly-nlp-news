{
 "cells": [
  {
   "cell_type": "code",
   "execution_count": 2,
   "metadata": {},
   "outputs": [],
   "source": [
    "import pandas as pd\n",
    "import gensim\n",
    "import gensim.corpora as corpora\n",
    "from pprint import pprint"
   ]
  },
  {
   "attachments": {},
   "cell_type": "markdown",
   "metadata": {},
   "source": [
    "### LDA - Topic Modelling"
   ]
  },
  {
   "cell_type": "code",
   "execution_count": 3,
   "metadata": {},
   "outputs": [
    {
     "data": {
      "text/html": [
       "<div>\n",
       "<style scoped>\n",
       "    .dataframe tbody tr th:only-of-type {\n",
       "        vertical-align: middle;\n",
       "    }\n",
       "\n",
       "    .dataframe tbody tr th {\n",
       "        vertical-align: top;\n",
       "    }\n",
       "\n",
       "    .dataframe thead th {\n",
       "        text-align: right;\n",
       "    }\n",
       "</style>\n",
       "<table border=\"1\" class=\"dataframe\">\n",
       "  <thead>\n",
       "    <tr style=\"text-align: right;\">\n",
       "      <th></th>\n",
       "      <th>link</th>\n",
       "      <th>headline</th>\n",
       "      <th>category</th>\n",
       "      <th>short_description</th>\n",
       "      <th>authors</th>\n",
       "      <th>date</th>\n",
       "      <th>words_clipped</th>\n",
       "      <th>words_clipped_headline</th>\n",
       "      <th>year</th>\n",
       "    </tr>\n",
       "  </thead>\n",
       "  <tbody>\n",
       "    <tr>\n",
       "      <th>187020</th>\n",
       "      <td>https://www.huffpost.com/entry/covid-boosters-...</td>\n",
       "      <td>Over 4 Million Americans Roll Up Sleeves For O...</td>\n",
       "      <td>U.S. NEWS</td>\n",
       "      <td>Health experts said it is too early to predict...</td>\n",
       "      <td>Carla K. Johnson, AP</td>\n",
       "      <td>2022-09-23</td>\n",
       "      <td>29</td>\n",
       "      <td>11</td>\n",
       "      <td>2022</td>\n",
       "    </tr>\n",
       "    <tr>\n",
       "      <th>187019</th>\n",
       "      <td>https://www.huffpost.com/entry/funniest-parent...</td>\n",
       "      <td>The Funniest Tweets From Parents This Week (Se...</td>\n",
       "      <td>PARENTING</td>\n",
       "      <td>\"Accidentally put grown-up toothpaste on my to...</td>\n",
       "      <td>Caroline Bologna</td>\n",
       "      <td>2022-09-23</td>\n",
       "      <td>25</td>\n",
       "      <td>9</td>\n",
       "      <td>2022</td>\n",
       "    </tr>\n",
       "    <tr>\n",
       "      <th>187018</th>\n",
       "      <td>https://www.huffpost.com/entry/american-airlin...</td>\n",
       "      <td>American Airlines Flyer Charged, Banned For Li...</td>\n",
       "      <td>U.S. NEWS</td>\n",
       "      <td>He was subdued by passengers and crew when he ...</td>\n",
       "      <td>Mary Papenfuss</td>\n",
       "      <td>2022-09-23</td>\n",
       "      <td>28</td>\n",
       "      <td>13</td>\n",
       "      <td>2022</td>\n",
       "    </tr>\n",
       "    <tr>\n",
       "      <th>187017</th>\n",
       "      <td>https://www.huffpost.com/entry/funniest-tweets...</td>\n",
       "      <td>23 Of The Funniest Tweets About Cats And Dogs ...</td>\n",
       "      <td>COMEDY</td>\n",
       "      <td>\"Until you have a dog you don't understand wha...</td>\n",
       "      <td>Elyse Wanshel</td>\n",
       "      <td>2022-09-23</td>\n",
       "      <td>12</td>\n",
       "      <td>13</td>\n",
       "      <td>2022</td>\n",
       "    </tr>\n",
       "    <tr>\n",
       "      <th>187016</th>\n",
       "      <td>https://www.huffpost.com/entry/amy-cooper-lose...</td>\n",
       "      <td>Woman Who Called Cops On Black Bird-Watcher Lo...</td>\n",
       "      <td>U.S. NEWS</td>\n",
       "      <td>Amy Cooper accused investment firm Franklin Te...</td>\n",
       "      <td>Nina Golgowski</td>\n",
       "      <td>2022-09-22</td>\n",
       "      <td>25</td>\n",
       "      <td>11</td>\n",
       "      <td>2022</td>\n",
       "    </tr>\n",
       "  </tbody>\n",
       "</table>\n",
       "</div>"
      ],
      "text/plain": [
       "                                                     link  \\\n",
       "187020  https://www.huffpost.com/entry/covid-boosters-...   \n",
       "187019  https://www.huffpost.com/entry/funniest-parent...   \n",
       "187018  https://www.huffpost.com/entry/american-airlin...   \n",
       "187017  https://www.huffpost.com/entry/funniest-tweets...   \n",
       "187016  https://www.huffpost.com/entry/amy-cooper-lose...   \n",
       "\n",
       "                                                 headline   category  \\\n",
       "187020  Over 4 Million Americans Roll Up Sleeves For O...  U.S. NEWS   \n",
       "187019  The Funniest Tweets From Parents This Week (Se...  PARENTING   \n",
       "187018  American Airlines Flyer Charged, Banned For Li...  U.S. NEWS   \n",
       "187017  23 Of The Funniest Tweets About Cats And Dogs ...     COMEDY   \n",
       "187016  Woman Who Called Cops On Black Bird-Watcher Lo...  U.S. NEWS   \n",
       "\n",
       "                                        short_description  \\\n",
       "187020  Health experts said it is too early to predict...   \n",
       "187019  \"Accidentally put grown-up toothpaste on my to...   \n",
       "187018  He was subdued by passengers and crew when he ...   \n",
       "187017  \"Until you have a dog you don't understand wha...   \n",
       "187016  Amy Cooper accused investment firm Franklin Te...   \n",
       "\n",
       "                     authors        date  words_clipped  \\\n",
       "187020  Carla K. Johnson, AP  2022-09-23             29   \n",
       "187019      Caroline Bologna  2022-09-23             25   \n",
       "187018        Mary Papenfuss  2022-09-23             28   \n",
       "187017         Elyse Wanshel  2022-09-23             12   \n",
       "187016        Nina Golgowski  2022-09-22             25   \n",
       "\n",
       "        words_clipped_headline  year  \n",
       "187020                      11  2022  \n",
       "187019                       9  2022  \n",
       "187018                      13  2022  \n",
       "187017                      13  2022  \n",
       "187016                      11  2022  "
      ]
     },
     "execution_count": 3,
     "metadata": {},
     "output_type": "execute_result"
    }
   ],
   "source": [
    "df = pd.read_csv(\"data/cleaned_data.csv\")\n",
    "df = df.sort_values(by=['date'], ascending=False)\n",
    "\n",
    "df.head()"
   ]
  },
  {
   "cell_type": "code",
   "execution_count": 4,
   "metadata": {},
   "outputs": [
    {
     "data": {
      "text/html": [
       "<div>\n",
       "<style scoped>\n",
       "    .dataframe tbody tr th:only-of-type {\n",
       "        vertical-align: middle;\n",
       "    }\n",
       "\n",
       "    .dataframe tbody tr th {\n",
       "        vertical-align: top;\n",
       "    }\n",
       "\n",
       "    .dataframe thead th {\n",
       "        text-align: right;\n",
       "    }\n",
       "</style>\n",
       "<table border=\"1\" class=\"dataframe\">\n",
       "  <thead>\n",
       "    <tr style=\"text-align: right;\">\n",
       "      <th></th>\n",
       "      <th>link</th>\n",
       "      <th>headline</th>\n",
       "      <th>category</th>\n",
       "      <th>short_description</th>\n",
       "      <th>authors</th>\n",
       "      <th>date</th>\n",
       "      <th>words_clipped</th>\n",
       "      <th>words_clipped_headline</th>\n",
       "      <th>year</th>\n",
       "    </tr>\n",
       "  </thead>\n",
       "  <tbody>\n",
       "    <tr>\n",
       "      <th>0</th>\n",
       "      <td>https://www.huffpost.com/entry/covid-boosters-...</td>\n",
       "      <td>million american roll sleev omicrontarget covi...</td>\n",
       "      <td>U.S. NEWS</td>\n",
       "      <td>health expert said earli predict demand match ...</td>\n",
       "      <td>Carla K. Johnson, AP</td>\n",
       "      <td>2022-09-23</td>\n",
       "      <td>29</td>\n",
       "      <td>11</td>\n",
       "      <td>2022</td>\n",
       "    </tr>\n",
       "    <tr>\n",
       "      <th>3</th>\n",
       "      <td>https://www.huffpost.com/entry/funniest-parent...</td>\n",
       "      <td>funniest tweet parent week sept</td>\n",
       "      <td>PARENTING</td>\n",
       "      <td>accident grownup toothpast toddler toothbrush ...</td>\n",
       "      <td>Caroline Bologna</td>\n",
       "      <td>2022-09-23</td>\n",
       "      <td>25</td>\n",
       "      <td>9</td>\n",
       "      <td>2022</td>\n",
       "    </tr>\n",
       "    <tr>\n",
       "      <th>1</th>\n",
       "      <td>https://www.huffpost.com/entry/american-airlin...</td>\n",
       "      <td>american airlin flyer charg ban life punch fli...</td>\n",
       "      <td>U.S. NEWS</td>\n",
       "      <td>subdu passeng crew fled aircraft confront acco...</td>\n",
       "      <td>Mary Papenfuss</td>\n",
       "      <td>2022-09-23</td>\n",
       "      <td>28</td>\n",
       "      <td>13</td>\n",
       "      <td>2022</td>\n",
       "    </tr>\n",
       "    <tr>\n",
       "      <th>2</th>\n",
       "      <td>https://www.huffpost.com/entry/funniest-tweets...</td>\n",
       "      <td>funniest tweet cat dog week sept</td>\n",
       "      <td>COMEDY</td>\n",
       "      <td>dog understand eaten</td>\n",
       "      <td>Elyse Wanshel</td>\n",
       "      <td>2022-09-23</td>\n",
       "      <td>12</td>\n",
       "      <td>13</td>\n",
       "      <td>2022</td>\n",
       "    </tr>\n",
       "    <tr>\n",
       "      <th>4</th>\n",
       "      <td>https://www.huffpost.com/entry/amy-cooper-lose...</td>\n",
       "      <td>woman call cop black birdwatch lose lawsuit ex...</td>\n",
       "      <td>U.S. NEWS</td>\n",
       "      <td>ami cooper accus invest firm franklin templeto...</td>\n",
       "      <td>Nina Golgowski</td>\n",
       "      <td>2022-09-22</td>\n",
       "      <td>25</td>\n",
       "      <td>11</td>\n",
       "      <td>2022</td>\n",
       "    </tr>\n",
       "  </tbody>\n",
       "</table>\n",
       "</div>"
      ],
      "text/plain": [
       "                                                link  \\\n",
       "0  https://www.huffpost.com/entry/covid-boosters-...   \n",
       "3  https://www.huffpost.com/entry/funniest-parent...   \n",
       "1  https://www.huffpost.com/entry/american-airlin...   \n",
       "2  https://www.huffpost.com/entry/funniest-tweets...   \n",
       "4  https://www.huffpost.com/entry/amy-cooper-lose...   \n",
       "\n",
       "                                            headline   category  \\\n",
       "0  million american roll sleev omicrontarget covi...  U.S. NEWS   \n",
       "3                    funniest tweet parent week sept  PARENTING   \n",
       "1  american airlin flyer charg ban life punch fli...  U.S. NEWS   \n",
       "2                   funniest tweet cat dog week sept     COMEDY   \n",
       "4  woman call cop black birdwatch lose lawsuit ex...  U.S. NEWS   \n",
       "\n",
       "                                   short_description               authors  \\\n",
       "0  health expert said earli predict demand match ...  Carla K. Johnson, AP   \n",
       "3  accident grownup toothpast toddler toothbrush ...      Caroline Bologna   \n",
       "1  subdu passeng crew fled aircraft confront acco...        Mary Papenfuss   \n",
       "2                               dog understand eaten         Elyse Wanshel   \n",
       "4  ami cooper accus invest firm franklin templeto...        Nina Golgowski   \n",
       "\n",
       "         date  words_clipped  words_clipped_headline  year  \n",
       "0  2022-09-23             29                      11  2022  \n",
       "3  2022-09-23             25                       9  2022  \n",
       "1  2022-09-23             28                      13  2022  \n",
       "2  2022-09-23             12                      13  2022  \n",
       "4  2022-09-22             25                      11  2022  "
      ]
     },
     "execution_count": 4,
     "metadata": {},
     "output_type": "execute_result"
    }
   ],
   "source": [
    "processed_df = pd.read_csv(\"data/processed_data.csv\", index_col=0)\n",
    "processed_df.head()"
   ]
  },
  {
   "cell_type": "code",
   "execution_count": 5,
   "metadata": {},
   "outputs": [],
   "source": [
    "## Tokenization again but already remove stopword, lemmization and stemming\n",
    "\n",
    "data = list(processed_df['headline'].values)\n",
    "\n",
    "def sent_to_words(sentences):\n",
    "    for sentence in sentences:\n",
    "        yield(gensim.utils.simple_preprocess(str(sentence), deacc=True))\n",
    "\n",
    "data_words = list(sent_to_words(data))"
   ]
  },
  {
   "cell_type": "code",
   "execution_count": 20,
   "metadata": {},
   "outputs": [
    {
     "name": "stdout",
     "output_type": "stream",
     "text": [
      "[[(0, 1), (1, 1), (2, 1), (3, 1), (4, 1), (5, 1), (6, 1)]]\n",
      "[[('american', 1), ('booster', 1), ('covid', 1), ('million', 1), ('omicrontarget', 1), ('roll', 1), ('sleev', 1)]]\n"
     ]
    }
   ],
   "source": [
    "# Create Dictionary\n",
    "id2word = corpora.Dictionary(data_words)\n",
    "\n",
    "# Create Corpus\n",
    "texts = data_words\n",
    "\n",
    "# Term Document Frequency\n",
    "corpus = [id2word.doc2bow(text) for text in texts]\n",
    "\n",
    "# View\n",
    "print(corpus[:1])\n",
    "print([[(id2word[id], freq) for id, freq in cp] for cp in corpus[:1]])"
   ]
  },
  {
   "cell_type": "code",
   "execution_count": 106,
   "metadata": {},
   "outputs": [],
   "source": [
    "# Build LDA model\n",
    "lda_model = gensim.models.ldamodel.LdaModel(corpus=corpus,\n",
    "                                           id2word=id2word,\n",
    "                                           num_topics=5,\n",
    "                                           passes=15)"
   ]
  },
  {
   "cell_type": "code",
   "execution_count": 107,
   "metadata": {},
   "outputs": [],
   "source": [
    "lda_model.save(\"model/model_lda.model\")"
   ]
  },
  {
   "cell_type": "code",
   "execution_count": 108,
   "metadata": {},
   "outputs": [],
   "source": [
    "# Load model\n",
    "from gensim.models.ldamodel import LdaModel\n",
    "lda = LdaModel.load(\"model/model_lda.model\")"
   ]
  },
  {
   "cell_type": "code",
   "execution_count": 127,
   "metadata": {},
   "outputs": [],
   "source": [
    "lda_model_test = LdaModel.load(\"model/model_lda.model\")"
   ]
  },
  {
   "cell_type": "code",
   "execution_count": 109,
   "metadata": {},
   "outputs": [
    {
     "name": "stdout",
     "output_type": "stream",
     "text": [
      "[(0,\n",
      "  '0.015*\"studi\" + 0.012*\"poll\" + 0.010*\"health\" + 0.009*\"idea\" + 0.009*\"new\" '\n",
      "  '+ 0.008*\"network\" + 0.008*\"guid\" + 0.007*\"hous\" + 0.006*\"diy\" + '\n",
      "  '0.006*\"plan\"'),\n",
      " (1,\n",
      "  '0.013*\"parent\" + 0.012*\"tip\" + 0.012*\"dress\" + 0.011*\"kid\" + 0.010*\"thing\" '\n",
      "  '+ 0.010*\"life\" + 0.010*\"child\" + 0.009*\"video\" + 0.008*\"cancer\" + '\n",
      "  '0.008*\"day\"'),\n",
      " (2,\n",
      "  '0.079*\"photo\" + 0.019*\"video\" + 0.017*\"week\" + 0.016*\"new\" + 0.016*\"day\" + '\n",
      "  '0.016*\"divorc\" + 0.014*\"style\" + 0.011*\"best\" + 0.011*\"recip\" + '\n",
      "  '0.011*\"love\"'),\n",
      " (3,\n",
      "  '0.019*\"video\" + 0.014*\"marriag\" + 0.009*\"hotel\" + 0.008*\"healthi\" + '\n",
      "  '0.007*\"craft\" + 0.006*\"school\" + 0.006*\"wed\" + 0.006*\"happi\" + 0.005*\"date\" '\n",
      "  '+ 0.005*\"teen\"'),\n",
      " (4,\n",
      "  '0.039*\"photo\" + 0.018*\"wed\" + 0.016*\"fashion\" + 0.012*\"way\" + 0.011*\"day\" + '\n",
      "  '0.009*\"need\" + 0.009*\"talk\" + 0.008*\"video\" + 0.008*\"mom\" + 0.008*\"make\"')]\n"
     ]
    }
   ],
   "source": [
    "# Print the Keyword in the 10 topics\n",
    "pprint(lda_model.print_topics())\n",
    "doc_lda = lda_model[corpus]"
   ]
  },
  {
   "cell_type": "code",
   "execution_count": 112,
   "metadata": {},
   "outputs": [],
   "source": [
    "sent_topics_df = pd.DataFrame()\n",
    "\n",
    "# Get main topic in each document\n",
    "for i, row in enumerate(lda_model[corpus]):\n",
    "    row = sorted(row, key=lambda x: (x[1]), reverse=True)\n",
    "    # Get the Dominant topic, Perc Contribution and Keywords for each document\n",
    "    for j, (topic_num, prop_topic) in enumerate(row):\n",
    "        if j == 0:  \n",
    "            wp = lda_model.show_topic(topic_num)\n",
    "            topic_keywords = \", \".join([word for word, prop in wp])\n",
    "            sent_topics_df = sent_topics_df._append(\n",
    "                pd.Series([int(topic_num), round(prop_topic, 4), topic_keywords]),\n",
    "                ignore_index=True,\n",
    "            )\n",
    "        else:\n",
    "            break\n",
    "\n",
    "# Add original text to the end of the output\n",
    "contents = pd.Series(list(df['headline'].values))\n",
    "\n",
    "sent_topics_df = pd.concat([sent_topics_df, contents, pd.Series(list(df[\"category\"].values)), pd.Series(list(df[\"date\"].values))], axis=1)\n",
    "\n",
    "sent_topics_df.columns = [\"Dominant_Topic\", \"Perc_Contribution\", \"Topic_Keywords\", \"headline\", \"category\", \"date\"]"
   ]
  },
  {
   "cell_type": "code",
   "execution_count": 113,
   "metadata": {},
   "outputs": [
    {
     "data": {
      "text/html": [
       "<div>\n",
       "<style scoped>\n",
       "    .dataframe tbody tr th:only-of-type {\n",
       "        vertical-align: middle;\n",
       "    }\n",
       "\n",
       "    .dataframe tbody tr th {\n",
       "        vertical-align: top;\n",
       "    }\n",
       "\n",
       "    .dataframe thead th {\n",
       "        text-align: right;\n",
       "    }\n",
       "</style>\n",
       "<table border=\"1\" class=\"dataframe\">\n",
       "  <thead>\n",
       "    <tr style=\"text-align: right;\">\n",
       "      <th></th>\n",
       "      <th>Dominant_Topic</th>\n",
       "      <th>Perc_Contribution</th>\n",
       "      <th>Topic_Keywords</th>\n",
       "      <th>headline</th>\n",
       "      <th>category</th>\n",
       "      <th>date</th>\n",
       "    </tr>\n",
       "  </thead>\n",
       "  <tbody>\n",
       "    <tr>\n",
       "      <th>0</th>\n",
       "      <td>4</td>\n",
       "      <td>0.3399</td>\n",
       "      <td>photo, wed, fashion, way, day, need, talk, vid...</td>\n",
       "      <td>Over 4 Million Americans Roll Up Sleeves For O...</td>\n",
       "      <td>U.S. NEWS</td>\n",
       "      <td>2022-09-23</td>\n",
       "    </tr>\n",
       "    <tr>\n",
       "      <th>1</th>\n",
       "      <td>1</td>\n",
       "      <td>0.7432</td>\n",
       "      <td>parent, tip, dress, kid, thing, life, child, v...</td>\n",
       "      <td>23 Of The Funniest Tweets About Cats And Dogs ...</td>\n",
       "      <td>COMEDY</td>\n",
       "      <td>2022-09-23</td>\n",
       "    </tr>\n",
       "    <tr>\n",
       "      <th>2</th>\n",
       "      <td>1</td>\n",
       "      <td>0.6273</td>\n",
       "      <td>parent, tip, dress, kid, thing, life, child, v...</td>\n",
       "      <td>The Funniest Tweets From Parents This Week (Se...</td>\n",
       "      <td>PARENTING</td>\n",
       "      <td>2022-09-23</td>\n",
       "    </tr>\n",
       "    <tr>\n",
       "      <th>3</th>\n",
       "      <td>1</td>\n",
       "      <td>0.4880</td>\n",
       "      <td>parent, tip, dress, kid, thing, life, child, v...</td>\n",
       "      <td>American Airlines Flyer Charged, Banned For Li...</td>\n",
       "      <td>U.S. NEWS</td>\n",
       "      <td>2022-09-23</td>\n",
       "    </tr>\n",
       "    <tr>\n",
       "      <th>4</th>\n",
       "      <td>3</td>\n",
       "      <td>0.5315</td>\n",
       "      <td>video, marriag, hotel, healthi, craft, school,...</td>\n",
       "      <td>Woman Who Called Cops On Black Bird-Watcher Lo...</td>\n",
       "      <td>U.S. NEWS</td>\n",
       "      <td>2022-09-22</td>\n",
       "    </tr>\n",
       "    <tr>\n",
       "      <th>...</th>\n",
       "      <td>...</td>\n",
       "      <td>...</td>\n",
       "      <td>...</td>\n",
       "      <td>...</td>\n",
       "      <td>...</td>\n",
       "      <td>...</td>\n",
       "    </tr>\n",
       "    <tr>\n",
       "      <th>187017</th>\n",
       "      <td>2</td>\n",
       "      <td>0.5463</td>\n",
       "      <td>photo, video, week, new, day, divorc, style, b...</td>\n",
       "      <td>Daily Show Correspondent Clip Of The Week: Al ...</td>\n",
       "      <td>COMEDY</td>\n",
       "      <td>2012-01-28</td>\n",
       "    </tr>\n",
       "    <tr>\n",
       "      <th>187018</th>\n",
       "      <td>0</td>\n",
       "      <td>0.6329</td>\n",
       "      <td>studi, poll, health, idea, new, network, guid,...</td>\n",
       "      <td>Mitt Romney Madness: Florida Edition (VIDEO)</td>\n",
       "      <td>COMEDY</td>\n",
       "      <td>2012-01-28</td>\n",
       "    </tr>\n",
       "    <tr>\n",
       "      <th>187019</th>\n",
       "      <td>1</td>\n",
       "      <td>0.5500</td>\n",
       "      <td>parent, tip, dress, kid, thing, life, child, v...</td>\n",
       "      <td>7 Amazing Name Generators (PHOTOS)</td>\n",
       "      <td>COMEDY</td>\n",
       "      <td>2012-01-28</td>\n",
       "    </tr>\n",
       "    <tr>\n",
       "      <th>187020</th>\n",
       "      <td>2</td>\n",
       "      <td>0.3509</td>\n",
       "      <td>photo, video, week, new, day, divorc, style, b...</td>\n",
       "      <td>Russian Cargo Ship Docks At International Spac...</td>\n",
       "      <td>SCIENCE</td>\n",
       "      <td>2012-01-28</td>\n",
       "    </tr>\n",
       "    <tr>\n",
       "      <th>187021</th>\n",
       "      <td>0</td>\n",
       "      <td>0.4011</td>\n",
       "      <td>studi, poll, health, idea, new, network, guid,...</td>\n",
       "      <td>Dwight Howard Rips Teammates After Magic Loss ...</td>\n",
       "      <td>SPORTS</td>\n",
       "      <td>2012-01-28</td>\n",
       "    </tr>\n",
       "  </tbody>\n",
       "</table>\n",
       "<p>187022 rows × 6 columns</p>\n",
       "</div>"
      ],
      "text/plain": [
       "        Dominant_Topic  Perc_Contribution  \\\n",
       "0                    4             0.3399   \n",
       "1                    1             0.7432   \n",
       "2                    1             0.6273   \n",
       "3                    1             0.4880   \n",
       "4                    3             0.5315   \n",
       "...                ...                ...   \n",
       "187017               2             0.5463   \n",
       "187018               0             0.6329   \n",
       "187019               1             0.5500   \n",
       "187020               2             0.3509   \n",
       "187021               0             0.4011   \n",
       "\n",
       "                                           Topic_Keywords  \\\n",
       "0       photo, wed, fashion, way, day, need, talk, vid...   \n",
       "1       parent, tip, dress, kid, thing, life, child, v...   \n",
       "2       parent, tip, dress, kid, thing, life, child, v...   \n",
       "3       parent, tip, dress, kid, thing, life, child, v...   \n",
       "4       video, marriag, hotel, healthi, craft, school,...   \n",
       "...                                                   ...   \n",
       "187017  photo, video, week, new, day, divorc, style, b...   \n",
       "187018  studi, poll, health, idea, new, network, guid,...   \n",
       "187019  parent, tip, dress, kid, thing, life, child, v...   \n",
       "187020  photo, video, week, new, day, divorc, style, b...   \n",
       "187021  studi, poll, health, idea, new, network, guid,...   \n",
       "\n",
       "                                                 headline   category  \\\n",
       "0       Over 4 Million Americans Roll Up Sleeves For O...  U.S. NEWS   \n",
       "1       23 Of The Funniest Tweets About Cats And Dogs ...     COMEDY   \n",
       "2       The Funniest Tweets From Parents This Week (Se...  PARENTING   \n",
       "3       American Airlines Flyer Charged, Banned For Li...  U.S. NEWS   \n",
       "4       Woman Who Called Cops On Black Bird-Watcher Lo...  U.S. NEWS   \n",
       "...                                                   ...        ...   \n",
       "187017  Daily Show Correspondent Clip Of The Week: Al ...     COMEDY   \n",
       "187018       Mitt Romney Madness: Florida Edition (VIDEO)     COMEDY   \n",
       "187019                 7 Amazing Name Generators (PHOTOS)     COMEDY   \n",
       "187020  Russian Cargo Ship Docks At International Spac...    SCIENCE   \n",
       "187021  Dwight Howard Rips Teammates After Magic Loss ...     SPORTS   \n",
       "\n",
       "              date  \n",
       "0       2022-09-23  \n",
       "1       2022-09-23  \n",
       "2       2022-09-23  \n",
       "3       2022-09-23  \n",
       "4       2022-09-22  \n",
       "...            ...  \n",
       "187017  2012-01-28  \n",
       "187018  2012-01-28  \n",
       "187019  2012-01-28  \n",
       "187020  2012-01-28  \n",
       "187021  2012-01-28  \n",
       "\n",
       "[187022 rows x 6 columns]"
      ]
     },
     "execution_count": 113,
     "metadata": {},
     "output_type": "execute_result"
    }
   ],
   "source": [
    "sent_topics_df"
   ]
  },
  {
   "cell_type": "code",
   "execution_count": 115,
   "metadata": {},
   "outputs": [],
   "source": [
    "sent_topics_df.to_csv('data/lda_data.csv',index=False)"
   ]
  },
  {
   "attachments": {},
   "cell_type": "markdown",
   "metadata": {},
   "source": [
    "# Plotly Chart"
   ]
  },
  {
   "cell_type": "code",
   "execution_count": 125,
   "metadata": {},
   "outputs": [],
   "source": [
    "import plotly.express as px\n",
    "import plotly.graph_objects as go\n",
    "from plotly.subplots import make_subplots\n",
    "\n",
    "from collections import Counter\n"
   ]
  },
  {
   "cell_type": "code",
   "execution_count": 157,
   "metadata": {},
   "outputs": [
    {
     "data": {
      "text/html": [
       "<div>\n",
       "<style scoped>\n",
       "    .dataframe tbody tr th:only-of-type {\n",
       "        vertical-align: middle;\n",
       "    }\n",
       "\n",
       "    .dataframe tbody tr th {\n",
       "        vertical-align: top;\n",
       "    }\n",
       "\n",
       "    .dataframe thead th {\n",
       "        text-align: right;\n",
       "    }\n",
       "</style>\n",
       "<table border=\"1\" class=\"dataframe\">\n",
       "  <thead>\n",
       "    <tr style=\"text-align: right;\">\n",
       "      <th></th>\n",
       "      <th>Dominant_Topic</th>\n",
       "      <th>Perc_Contribution</th>\n",
       "      <th>Topic_Keywords</th>\n",
       "      <th>headline</th>\n",
       "      <th>category</th>\n",
       "      <th>date</th>\n",
       "    </tr>\n",
       "  </thead>\n",
       "  <tbody>\n",
       "    <tr>\n",
       "      <th>0</th>\n",
       "      <td>4</td>\n",
       "      <td>0.3399</td>\n",
       "      <td>photo, wed, fashion, way, day, need, talk, vid...</td>\n",
       "      <td>Over 4 Million Americans Roll Up Sleeves For O...</td>\n",
       "      <td>U.S. NEWS</td>\n",
       "      <td>2022-09-23</td>\n",
       "    </tr>\n",
       "    <tr>\n",
       "      <th>1</th>\n",
       "      <td>1</td>\n",
       "      <td>0.7432</td>\n",
       "      <td>parent, tip, dress, kid, thing, life, child, v...</td>\n",
       "      <td>23 Of The Funniest Tweets About Cats And Dogs ...</td>\n",
       "      <td>COMEDY</td>\n",
       "      <td>2022-09-23</td>\n",
       "    </tr>\n",
       "    <tr>\n",
       "      <th>2</th>\n",
       "      <td>1</td>\n",
       "      <td>0.6273</td>\n",
       "      <td>parent, tip, dress, kid, thing, life, child, v...</td>\n",
       "      <td>The Funniest Tweets From Parents This Week (Se...</td>\n",
       "      <td>PARENTING</td>\n",
       "      <td>2022-09-23</td>\n",
       "    </tr>\n",
       "    <tr>\n",
       "      <th>3</th>\n",
       "      <td>1</td>\n",
       "      <td>0.4880</td>\n",
       "      <td>parent, tip, dress, kid, thing, life, child, v...</td>\n",
       "      <td>American Airlines Flyer Charged, Banned For Li...</td>\n",
       "      <td>U.S. NEWS</td>\n",
       "      <td>2022-09-23</td>\n",
       "    </tr>\n",
       "    <tr>\n",
       "      <th>4</th>\n",
       "      <td>3</td>\n",
       "      <td>0.5315</td>\n",
       "      <td>video, marriag, hotel, healthi, craft, school,...</td>\n",
       "      <td>Woman Who Called Cops On Black Bird-Watcher Lo...</td>\n",
       "      <td>U.S. NEWS</td>\n",
       "      <td>2022-09-22</td>\n",
       "    </tr>\n",
       "    <tr>\n",
       "      <th>...</th>\n",
       "      <td>...</td>\n",
       "      <td>...</td>\n",
       "      <td>...</td>\n",
       "      <td>...</td>\n",
       "      <td>...</td>\n",
       "      <td>...</td>\n",
       "    </tr>\n",
       "    <tr>\n",
       "      <th>187017</th>\n",
       "      <td>2</td>\n",
       "      <td>0.5463</td>\n",
       "      <td>photo, video, week, new, day, divorc, style, b...</td>\n",
       "      <td>Daily Show Correspondent Clip Of The Week: Al ...</td>\n",
       "      <td>COMEDY</td>\n",
       "      <td>2012-01-28</td>\n",
       "    </tr>\n",
       "    <tr>\n",
       "      <th>187018</th>\n",
       "      <td>0</td>\n",
       "      <td>0.6329</td>\n",
       "      <td>studi, poll, health, idea, new, network, guid,...</td>\n",
       "      <td>Mitt Romney Madness: Florida Edition (VIDEO)</td>\n",
       "      <td>COMEDY</td>\n",
       "      <td>2012-01-28</td>\n",
       "    </tr>\n",
       "    <tr>\n",
       "      <th>187019</th>\n",
       "      <td>1</td>\n",
       "      <td>0.5500</td>\n",
       "      <td>parent, tip, dress, kid, thing, life, child, v...</td>\n",
       "      <td>7 Amazing Name Generators (PHOTOS)</td>\n",
       "      <td>COMEDY</td>\n",
       "      <td>2012-01-28</td>\n",
       "    </tr>\n",
       "    <tr>\n",
       "      <th>187020</th>\n",
       "      <td>2</td>\n",
       "      <td>0.3509</td>\n",
       "      <td>photo, video, week, new, day, divorc, style, b...</td>\n",
       "      <td>Russian Cargo Ship Docks At International Spac...</td>\n",
       "      <td>SCIENCE</td>\n",
       "      <td>2012-01-28</td>\n",
       "    </tr>\n",
       "    <tr>\n",
       "      <th>187021</th>\n",
       "      <td>0</td>\n",
       "      <td>0.4011</td>\n",
       "      <td>studi, poll, health, idea, new, network, guid,...</td>\n",
       "      <td>Dwight Howard Rips Teammates After Magic Loss ...</td>\n",
       "      <td>SPORTS</td>\n",
       "      <td>2012-01-28</td>\n",
       "    </tr>\n",
       "  </tbody>\n",
       "</table>\n",
       "<p>187022 rows × 6 columns</p>\n",
       "</div>"
      ],
      "text/plain": [
       "        Dominant_Topic  Perc_Contribution  \\\n",
       "0                    4             0.3399   \n",
       "1                    1             0.7432   \n",
       "2                    1             0.6273   \n",
       "3                    1             0.4880   \n",
       "4                    3             0.5315   \n",
       "...                ...                ...   \n",
       "187017               2             0.5463   \n",
       "187018               0             0.6329   \n",
       "187019               1             0.5500   \n",
       "187020               2             0.3509   \n",
       "187021               0             0.4011   \n",
       "\n",
       "                                           Topic_Keywords  \\\n",
       "0       photo, wed, fashion, way, day, need, talk, vid...   \n",
       "1       parent, tip, dress, kid, thing, life, child, v...   \n",
       "2       parent, tip, dress, kid, thing, life, child, v...   \n",
       "3       parent, tip, dress, kid, thing, life, child, v...   \n",
       "4       video, marriag, hotel, healthi, craft, school,...   \n",
       "...                                                   ...   \n",
       "187017  photo, video, week, new, day, divorc, style, b...   \n",
       "187018  studi, poll, health, idea, new, network, guid,...   \n",
       "187019  parent, tip, dress, kid, thing, life, child, v...   \n",
       "187020  photo, video, week, new, day, divorc, style, b...   \n",
       "187021  studi, poll, health, idea, new, network, guid,...   \n",
       "\n",
       "                                                 headline   category  \\\n",
       "0       Over 4 Million Americans Roll Up Sleeves For O...  U.S. NEWS   \n",
       "1       23 Of The Funniest Tweets About Cats And Dogs ...     COMEDY   \n",
       "2       The Funniest Tweets From Parents This Week (Se...  PARENTING   \n",
       "3       American Airlines Flyer Charged, Banned For Li...  U.S. NEWS   \n",
       "4       Woman Who Called Cops On Black Bird-Watcher Lo...  U.S. NEWS   \n",
       "...                                                   ...        ...   \n",
       "187017  Daily Show Correspondent Clip Of The Week: Al ...     COMEDY   \n",
       "187018       Mitt Romney Madness: Florida Edition (VIDEO)     COMEDY   \n",
       "187019                 7 Amazing Name Generators (PHOTOS)     COMEDY   \n",
       "187020  Russian Cargo Ship Docks At International Spac...    SCIENCE   \n",
       "187021  Dwight Howard Rips Teammates After Magic Loss ...     SPORTS   \n",
       "\n",
       "              date  \n",
       "0       2022-09-23  \n",
       "1       2022-09-23  \n",
       "2       2022-09-23  \n",
       "3       2022-09-23  \n",
       "4       2022-09-22  \n",
       "...            ...  \n",
       "187017  2012-01-28  \n",
       "187018  2012-01-28  \n",
       "187019  2012-01-28  \n",
       "187020  2012-01-28  \n",
       "187021  2012-01-28  \n",
       "\n",
       "[187022 rows x 6 columns]"
      ]
     },
     "execution_count": 157,
     "metadata": {},
     "output_type": "execute_result"
    }
   ],
   "source": [
    "df_dominant_topic = pd.read_csv('data/lda_data.csv')\n",
    "df_dominant_topic"
   ]
  },
  {
   "cell_type": "code",
   "execution_count": 160,
   "metadata": {},
   "outputs": [
    {
     "data": {
      "text/html": [
       "<div>\n",
       "<style scoped>\n",
       "    .dataframe tbody tr th:only-of-type {\n",
       "        vertical-align: middle;\n",
       "    }\n",
       "\n",
       "    .dataframe tbody tr th {\n",
       "        vertical-align: top;\n",
       "    }\n",
       "\n",
       "    .dataframe thead th {\n",
       "        text-align: right;\n",
       "    }\n",
       "</style>\n",
       "<table border=\"1\" class=\"dataframe\">\n",
       "  <thead>\n",
       "    <tr style=\"text-align: right;\">\n",
       "      <th></th>\n",
       "      <th>Dominant_Topic</th>\n",
       "      <th>Topic_Keywords</th>\n",
       "      <th>Category</th>\n",
       "      <th>Count</th>\n",
       "    </tr>\n",
       "  </thead>\n",
       "  <tbody>\n",
       "    <tr>\n",
       "      <th>0</th>\n",
       "      <td>0</td>\n",
       "      <td>studi, poll, health, idea, new, network, guid,...</td>\n",
       "      <td>ARTS</td>\n",
       "      <td>115</td>\n",
       "    </tr>\n",
       "    <tr>\n",
       "      <th>1</th>\n",
       "      <td>0</td>\n",
       "      <td>studi, poll, health, idea, new, network, guid,...</td>\n",
       "      <td>ARTS &amp; CULTURE</td>\n",
       "      <td>267</td>\n",
       "    </tr>\n",
       "    <tr>\n",
       "      <th>2</th>\n",
       "      <td>0</td>\n",
       "      <td>studi, poll, health, idea, new, network, guid,...</td>\n",
       "      <td>BLACK VOICES</td>\n",
       "      <td>793</td>\n",
       "    </tr>\n",
       "    <tr>\n",
       "      <th>3</th>\n",
       "      <td>0</td>\n",
       "      <td>studi, poll, health, idea, new, network, guid,...</td>\n",
       "      <td>BUSINESS</td>\n",
       "      <td>2037</td>\n",
       "    </tr>\n",
       "    <tr>\n",
       "      <th>4</th>\n",
       "      <td>0</td>\n",
       "      <td>studi, poll, health, idea, new, network, guid,...</td>\n",
       "      <td>COLLEGE</td>\n",
       "      <td>263</td>\n",
       "    </tr>\n",
       "    <tr>\n",
       "      <th>...</th>\n",
       "      <td>...</td>\n",
       "      <td>...</td>\n",
       "      <td>...</td>\n",
       "      <td>...</td>\n",
       "    </tr>\n",
       "    <tr>\n",
       "      <th>205</th>\n",
       "      <td>4</td>\n",
       "      <td>photo, wed, fashion, way, day, need, talk, vid...</td>\n",
       "      <td>WEIRD NEWS</td>\n",
       "      <td>370</td>\n",
       "    </tr>\n",
       "    <tr>\n",
       "      <th>206</th>\n",
       "      <td>4</td>\n",
       "      <td>photo, wed, fashion, way, day, need, talk, vid...</td>\n",
       "      <td>WELLNESS</td>\n",
       "      <td>3915</td>\n",
       "    </tr>\n",
       "    <tr>\n",
       "      <th>207</th>\n",
       "      <td>4</td>\n",
       "      <td>photo, wed, fashion, way, day, need, talk, vid...</td>\n",
       "      <td>WOMEN</td>\n",
       "      <td>677</td>\n",
       "    </tr>\n",
       "    <tr>\n",
       "      <th>208</th>\n",
       "      <td>4</td>\n",
       "      <td>photo, wed, fashion, way, day, need, talk, vid...</td>\n",
       "      <td>WORLD NEWS</td>\n",
       "      <td>486</td>\n",
       "    </tr>\n",
       "    <tr>\n",
       "      <th>209</th>\n",
       "      <td>4</td>\n",
       "      <td>photo, wed, fashion, way, day, need, talk, vid...</td>\n",
       "      <td>WORLDPOST</td>\n",
       "      <td>255</td>\n",
       "    </tr>\n",
       "  </tbody>\n",
       "</table>\n",
       "<p>210 rows × 4 columns</p>\n",
       "</div>"
      ],
      "text/plain": [
       "     Dominant_Topic                                     Topic_Keywords  \\\n",
       "0                 0  studi, poll, health, idea, new, network, guid,...   \n",
       "1                 0  studi, poll, health, idea, new, network, guid,...   \n",
       "2                 0  studi, poll, health, idea, new, network, guid,...   \n",
       "3                 0  studi, poll, health, idea, new, network, guid,...   \n",
       "4                 0  studi, poll, health, idea, new, network, guid,...   \n",
       "..              ...                                                ...   \n",
       "205               4  photo, wed, fashion, way, day, need, talk, vid...   \n",
       "206               4  photo, wed, fashion, way, day, need, talk, vid...   \n",
       "207               4  photo, wed, fashion, way, day, need, talk, vid...   \n",
       "208               4  photo, wed, fashion, way, day, need, talk, vid...   \n",
       "209               4  photo, wed, fashion, way, day, need, talk, vid...   \n",
       "\n",
       "           Category  Count  \n",
       "0              ARTS    115  \n",
       "1    ARTS & CULTURE    267  \n",
       "2      BLACK VOICES    793  \n",
       "3          BUSINESS   2037  \n",
       "4           COLLEGE    263  \n",
       "..              ...    ...  \n",
       "205      WEIRD NEWS    370  \n",
       "206        WELLNESS   3915  \n",
       "207           WOMEN    677  \n",
       "208      WORLD NEWS    486  \n",
       "209       WORLDPOST    255  \n",
       "\n",
       "[210 rows x 4 columns]"
      ]
     },
     "execution_count": 160,
     "metadata": {},
     "output_type": "execute_result"
    }
   ],
   "source": [
    "df_dominant_topic_groupby = df_dominant_topic.groupby(by=['Dominant_Topic','Topic_Keywords','category'])['headline'].count().reset_index()\n",
    "df_dominant_topic_groupby.columns = ['Dominant_Topic','Topic_Keywords','Category', 'Count']\n",
    "df_dominant_topic_groupby"
   ]
  },
  {
   "cell_type": "code",
   "execution_count": 118,
   "metadata": {},
   "outputs": [
    {
     "data": {
      "text/plain": [
       "Index(['POLITICS', 'WELLNESS', 'ENTERTAINMENT', 'TRAVEL', 'STYLE & BEAUTY',\n",
       "       'PARENTING', 'FOOD & DRINK', 'QUEER VOICES', 'HEALTHY LIVING',\n",
       "       'BUSINESS', 'COMEDY', 'SPORTS', 'HOME & LIVING', 'BLACK VOICES',\n",
       "       'THE WORLDPOST', 'WEDDINGS', 'PARENTS', 'DIVORCE', 'WORLD NEWS',\n",
       "       'WOMEN'],\n",
       "      dtype='object', name='category')"
      ]
     },
     "execution_count": 118,
     "metadata": {},
     "output_type": "execute_result"
    }
   ],
   "source": [
    "top_category = (\n",
    "    df.groupby(\"category\")[\"link\"]\n",
    "    .count()\n",
    "    .sort_values(ascending=False)[:20]\n",
    "    .index\n",
    ")\n",
    "\n",
    "top_category"
   ]
  },
  {
   "cell_type": "code",
   "execution_count": 119,
   "metadata": {},
   "outputs": [
    {
     "data": {
      "text/html": [
       "<div>\n",
       "<style scoped>\n",
       "    .dataframe tbody tr th:only-of-type {\n",
       "        vertical-align: middle;\n",
       "    }\n",
       "\n",
       "    .dataframe tbody tr th {\n",
       "        vertical-align: top;\n",
       "    }\n",
       "\n",
       "    .dataframe thead th {\n",
       "        text-align: right;\n",
       "    }\n",
       "</style>\n",
       "<table border=\"1\" class=\"dataframe\">\n",
       "  <thead>\n",
       "    <tr style=\"text-align: right;\">\n",
       "      <th></th>\n",
       "      <th>Dominant_Topic</th>\n",
       "      <th>Topic_Keywords</th>\n",
       "      <th>Category</th>\n",
       "      <th>Count</th>\n",
       "    </tr>\n",
       "  </thead>\n",
       "  <tbody>\n",
       "    <tr>\n",
       "      <th>2</th>\n",
       "      <td>0</td>\n",
       "      <td>studi, poll, health, idea, new, network, guid,...</td>\n",
       "      <td>BLACK VOICES</td>\n",
       "      <td>793</td>\n",
       "    </tr>\n",
       "    <tr>\n",
       "      <th>3</th>\n",
       "      <td>0</td>\n",
       "      <td>studi, poll, health, idea, new, network, guid,...</td>\n",
       "      <td>BUSINESS</td>\n",
       "      <td>2037</td>\n",
       "    </tr>\n",
       "    <tr>\n",
       "      <th>5</th>\n",
       "      <td>0</td>\n",
       "      <td>studi, poll, health, idea, new, network, guid,...</td>\n",
       "      <td>COMEDY</td>\n",
       "      <td>1940</td>\n",
       "    </tr>\n",
       "    <tr>\n",
       "      <th>8</th>\n",
       "      <td>0</td>\n",
       "      <td>studi, poll, health, idea, new, network, guid,...</td>\n",
       "      <td>DIVORCE</td>\n",
       "      <td>382</td>\n",
       "    </tr>\n",
       "    <tr>\n",
       "      <th>10</th>\n",
       "      <td>0</td>\n",
       "      <td>studi, poll, health, idea, new, network, guid,...</td>\n",
       "      <td>ENTERTAINMENT</td>\n",
       "      <td>2055</td>\n",
       "    </tr>\n",
       "    <tr>\n",
       "      <th>...</th>\n",
       "      <td>...</td>\n",
       "      <td>...</td>\n",
       "      <td>...</td>\n",
       "      <td>...</td>\n",
       "    </tr>\n",
       "    <tr>\n",
       "      <th>202</th>\n",
       "      <td>4</td>\n",
       "      <td>photo, wed, fashion, way, day, need, talk, vid...</td>\n",
       "      <td>TRAVEL</td>\n",
       "      <td>1674</td>\n",
       "    </tr>\n",
       "    <tr>\n",
       "      <th>204</th>\n",
       "      <td>4</td>\n",
       "      <td>photo, wed, fashion, way, day, need, talk, vid...</td>\n",
       "      <td>WEDDINGS</td>\n",
       "      <td>1227</td>\n",
       "    </tr>\n",
       "    <tr>\n",
       "      <th>206</th>\n",
       "      <td>4</td>\n",
       "      <td>photo, wed, fashion, way, day, need, talk, vid...</td>\n",
       "      <td>WELLNESS</td>\n",
       "      <td>3915</td>\n",
       "    </tr>\n",
       "    <tr>\n",
       "      <th>207</th>\n",
       "      <td>4</td>\n",
       "      <td>photo, wed, fashion, way, day, need, talk, vid...</td>\n",
       "      <td>WOMEN</td>\n",
       "      <td>677</td>\n",
       "    </tr>\n",
       "    <tr>\n",
       "      <th>208</th>\n",
       "      <td>4</td>\n",
       "      <td>photo, wed, fashion, way, day, need, talk, vid...</td>\n",
       "      <td>WORLD NEWS</td>\n",
       "      <td>486</td>\n",
       "    </tr>\n",
       "  </tbody>\n",
       "</table>\n",
       "<p>100 rows × 4 columns</p>\n",
       "</div>"
      ],
      "text/plain": [
       "     Dominant_Topic                                     Topic_Keywords  \\\n",
       "2                 0  studi, poll, health, idea, new, network, guid,...   \n",
       "3                 0  studi, poll, health, idea, new, network, guid,...   \n",
       "5                 0  studi, poll, health, idea, new, network, guid,...   \n",
       "8                 0  studi, poll, health, idea, new, network, guid,...   \n",
       "10                0  studi, poll, health, idea, new, network, guid,...   \n",
       "..              ...                                                ...   \n",
       "202               4  photo, wed, fashion, way, day, need, talk, vid...   \n",
       "204               4  photo, wed, fashion, way, day, need, talk, vid...   \n",
       "206               4  photo, wed, fashion, way, day, need, talk, vid...   \n",
       "207               4  photo, wed, fashion, way, day, need, talk, vid...   \n",
       "208               4  photo, wed, fashion, way, day, need, talk, vid...   \n",
       "\n",
       "          Category  Count  \n",
       "2     BLACK VOICES    793  \n",
       "3         BUSINESS   2037  \n",
       "5           COMEDY   1940  \n",
       "8          DIVORCE    382  \n",
       "10   ENTERTAINMENT   2055  \n",
       "..             ...    ...  \n",
       "202         TRAVEL   1674  \n",
       "204       WEDDINGS   1227  \n",
       "206       WELLNESS   3915  \n",
       "207          WOMEN    677  \n",
       "208     WORLD NEWS    486  \n",
       "\n",
       "[100 rows x 4 columns]"
      ]
     },
     "execution_count": 119,
     "metadata": {},
     "output_type": "execute_result"
    }
   ],
   "source": [
    "top_category_dominant_topic_df = df_dominant_topic_groupby[df_dominant_topic_groupby[\"Category\"].isin(top_category)]\n",
    "top_category_dominant_topic_df"
   ]
  },
  {
   "attachments": {},
   "cell_type": "markdown",
   "metadata": {},
   "source": [
    "## (1) Word Count and Importance of Topic Keywords\n"
   ]
  },
  {
   "cell_type": "code",
   "execution_count": 165,
   "metadata": {},
   "outputs": [
    {
     "data": {
      "application/vnd.plotly.v1+json": {
       "config": {
        "plotlyServerURL": "https://plot.ly"
       },
       "data": [
        {
         "hoverinfo": "text+x+y",
         "name": "Word Count",
         "text": [
          "Word Count: 1746, Importance: 0.015",
          "Word Count: 867, Importance: 0.012",
          "Word Count: 2227, Importance: 0.010",
          "Word Count: 1018, Importance: 0.009",
          "Word Count: 7988, Importance: 0.009",
          "Word Count: 391, Importance: 0.008",
          "Word Count: 892, Importance: 0.008",
          "Word Count: 2232, Importance: 0.007",
          "Word Count: 385, Importance: 0.006",
          "Word Count: 1673, Importance: 0.006"
         ],
         "textposition": "outside",
         "type": "bar",
         "x": [
          "studi",
          "poll",
          "health",
          "idea",
          "new",
          "network",
          "guid",
          "hous",
          "diy",
          "plan"
         ],
         "xaxis": "x",
         "y": [
          1746,
          867,
          2227,
          1018,
          7988,
          391,
          892,
          2232,
          385,
          1673
         ],
         "yaxis": "y"
        },
        {
         "hoverinfo": "text+x+y",
         "name": "Word Count",
         "text": [
          "Word Count: 2164, Importance: 0.013",
          "Word Count: 1592, Importance: 0.012",
          "Word Count: 1208, Importance: 0.012",
          "Word Count: 3021, Importance: 0.011",
          "Word Count: 2699, Importance: 0.010",
          "Word Count: 3134, Importance: 0.010",
          "Word Count: 2355, Importance: 0.010",
          "Word Count: 5768, Importance: 0.009",
          "Word Count: 1142, Importance: 0.008",
          "Word Count: 4993, Importance: 0.008"
         ],
         "textposition": "outside",
         "type": "bar",
         "x": [
          "parent",
          "tip",
          "dress",
          "kid",
          "thing",
          "life",
          "child",
          "video",
          "cancer",
          "day"
         ],
         "xaxis": "x2",
         "y": [
          2164,
          1592,
          1208,
          3021,
          2699,
          3134,
          2355,
          5768,
          1142,
          4993
         ],
         "yaxis": "y2"
        },
        {
         "hoverinfo": "text+x+y",
         "name": "Word Count",
         "text": [
          "Word Count: 11536, Importance: 0.079",
          "Word Count: 5768, Importance: 0.019",
          "Word Count: 2620, Importance: 0.017",
          "Word Count: 7988, Importance: 0.016",
          "Word Count: 4993, Importance: 0.016",
          "Word Count: 1671, Importance: 0.016",
          "Word Count: 1269, Importance: 0.014",
          "Word Count: 3358, Importance: 0.011",
          "Word Count: 1537, Importance: 0.011",
          "Word Count: 2772, Importance: 0.011"
         ],
         "textposition": "outside",
         "type": "bar",
         "x": [
          "photo",
          "video",
          "week",
          "new",
          "day",
          "divorc",
          "style",
          "best",
          "recip",
          "love"
         ],
         "xaxis": "x3",
         "y": [
          11536,
          5768,
          2620,
          7988,
          4993,
          1671,
          1269,
          3358,
          1537,
          2772
         ],
         "yaxis": "y3"
        },
        {
         "hoverinfo": "text+x+y",
         "name": "Word Count",
         "text": [
          "Word Count: 5768, Importance: 0.019",
          "Word Count: 1255, Importance: 0.014",
          "Word Count: 812, Importance: 0.009",
          "Word Count: 748, Importance: 0.008",
          "Word Count: 327, Importance: 0.007",
          "Word Count: 1750, Importance: 0.006",
          "Word Count: 2262, Importance: 0.006",
          "Word Count: 911, Importance: 0.006",
          "Word Count: 796, Importance: 0.005",
          "Word Count: 946, Importance: 0.005"
         ],
         "textposition": "outside",
         "type": "bar",
         "x": [
          "video",
          "marriag",
          "hotel",
          "healthi",
          "craft",
          "school",
          "wed",
          "happi",
          "date",
          "teen"
         ],
         "xaxis": "x4",
         "y": [
          5768,
          1255,
          812,
          748,
          327,
          1750,
          2262,
          911,
          796,
          946
         ],
         "yaxis": "y4"
        },
        {
         "hoverinfo": "text+x+y",
         "name": "Word Count",
         "text": [
          "Word Count: 11536, Importance: 0.039",
          "Word Count: 2262, Importance: 0.018",
          "Word Count: 1279, Importance: 0.016",
          "Word Count: 3729, Importance: 0.012",
          "Word Count: 4993, Importance: 0.011",
          "Word Count: 2435, Importance: 0.009",
          "Word Count: 1787, Importance: 0.009",
          "Word Count: 5768, Importance: 0.008",
          "Word Count: 1914, Importance: 0.008",
          "Word Count: 4769, Importance: 0.008"
         ],
         "textposition": "outside",
         "type": "bar",
         "x": [
          "photo",
          "wed",
          "fashion",
          "way",
          "day",
          "need",
          "talk",
          "video",
          "mom",
          "make"
         ],
         "xaxis": "x5",
         "y": [
          11536,
          2262,
          1279,
          3729,
          4993,
          2435,
          1787,
          5768,
          1914,
          4769
         ],
         "yaxis": "y5"
        }
       ],
       "layout": {
        "annotations": [
         {
          "font": {
           "size": 16
          },
          "showarrow": false,
          "text": "Topic: 0",
          "x": 0.08399999999999999,
          "xanchor": "center",
          "xref": "paper",
          "y": 1,
          "yanchor": "bottom",
          "yref": "paper"
         },
         {
          "font": {
           "size": 16
          },
          "showarrow": false,
          "text": "Topic: 1",
          "x": 0.292,
          "xanchor": "center",
          "xref": "paper",
          "y": 1,
          "yanchor": "bottom",
          "yref": "paper"
         },
         {
          "font": {
           "size": 16
          },
          "showarrow": false,
          "text": "Topic: 2",
          "x": 0.5,
          "xanchor": "center",
          "xref": "paper",
          "y": 1,
          "yanchor": "bottom",
          "yref": "paper"
         },
         {
          "font": {
           "size": 16
          },
          "showarrow": false,
          "text": "Topic: 3",
          "x": 0.708,
          "xanchor": "center",
          "xref": "paper",
          "y": 1,
          "yanchor": "bottom",
          "yref": "paper"
         },
         {
          "font": {
           "size": 16
          },
          "showarrow": false,
          "text": "Topic: 4",
          "x": 0.9159999999999999,
          "xanchor": "center",
          "xref": "paper",
          "y": 1,
          "yanchor": "bottom",
          "yref": "paper"
         }
        ],
        "showlegend": false,
        "template": {
         "data": {
          "bar": [
           {
            "error_x": {
             "color": "#2a3f5f"
            },
            "error_y": {
             "color": "#2a3f5f"
            },
            "marker": {
             "line": {
              "color": "#E5ECF6",
              "width": 0.5
             },
             "pattern": {
              "fillmode": "overlay",
              "size": 10,
              "solidity": 0.2
             }
            },
            "type": "bar"
           }
          ],
          "barpolar": [
           {
            "marker": {
             "line": {
              "color": "#E5ECF6",
              "width": 0.5
             },
             "pattern": {
              "fillmode": "overlay",
              "size": 10,
              "solidity": 0.2
             }
            },
            "type": "barpolar"
           }
          ],
          "carpet": [
           {
            "aaxis": {
             "endlinecolor": "#2a3f5f",
             "gridcolor": "white",
             "linecolor": "white",
             "minorgridcolor": "white",
             "startlinecolor": "#2a3f5f"
            },
            "baxis": {
             "endlinecolor": "#2a3f5f",
             "gridcolor": "white",
             "linecolor": "white",
             "minorgridcolor": "white",
             "startlinecolor": "#2a3f5f"
            },
            "type": "carpet"
           }
          ],
          "choropleth": [
           {
            "colorbar": {
             "outlinewidth": 0,
             "ticks": ""
            },
            "type": "choropleth"
           }
          ],
          "contour": [
           {
            "colorbar": {
             "outlinewidth": 0,
             "ticks": ""
            },
            "colorscale": [
             [
              0,
              "#0d0887"
             ],
             [
              0.1111111111111111,
              "#46039f"
             ],
             [
              0.2222222222222222,
              "#7201a8"
             ],
             [
              0.3333333333333333,
              "#9c179e"
             ],
             [
              0.4444444444444444,
              "#bd3786"
             ],
             [
              0.5555555555555556,
              "#d8576b"
             ],
             [
              0.6666666666666666,
              "#ed7953"
             ],
             [
              0.7777777777777778,
              "#fb9f3a"
             ],
             [
              0.8888888888888888,
              "#fdca26"
             ],
             [
              1,
              "#f0f921"
             ]
            ],
            "type": "contour"
           }
          ],
          "contourcarpet": [
           {
            "colorbar": {
             "outlinewidth": 0,
             "ticks": ""
            },
            "type": "contourcarpet"
           }
          ],
          "heatmap": [
           {
            "colorbar": {
             "outlinewidth": 0,
             "ticks": ""
            },
            "colorscale": [
             [
              0,
              "#0d0887"
             ],
             [
              0.1111111111111111,
              "#46039f"
             ],
             [
              0.2222222222222222,
              "#7201a8"
             ],
             [
              0.3333333333333333,
              "#9c179e"
             ],
             [
              0.4444444444444444,
              "#bd3786"
             ],
             [
              0.5555555555555556,
              "#d8576b"
             ],
             [
              0.6666666666666666,
              "#ed7953"
             ],
             [
              0.7777777777777778,
              "#fb9f3a"
             ],
             [
              0.8888888888888888,
              "#fdca26"
             ],
             [
              1,
              "#f0f921"
             ]
            ],
            "type": "heatmap"
           }
          ],
          "heatmapgl": [
           {
            "colorbar": {
             "outlinewidth": 0,
             "ticks": ""
            },
            "colorscale": [
             [
              0,
              "#0d0887"
             ],
             [
              0.1111111111111111,
              "#46039f"
             ],
             [
              0.2222222222222222,
              "#7201a8"
             ],
             [
              0.3333333333333333,
              "#9c179e"
             ],
             [
              0.4444444444444444,
              "#bd3786"
             ],
             [
              0.5555555555555556,
              "#d8576b"
             ],
             [
              0.6666666666666666,
              "#ed7953"
             ],
             [
              0.7777777777777778,
              "#fb9f3a"
             ],
             [
              0.8888888888888888,
              "#fdca26"
             ],
             [
              1,
              "#f0f921"
             ]
            ],
            "type": "heatmapgl"
           }
          ],
          "histogram": [
           {
            "marker": {
             "pattern": {
              "fillmode": "overlay",
              "size": 10,
              "solidity": 0.2
             }
            },
            "type": "histogram"
           }
          ],
          "histogram2d": [
           {
            "colorbar": {
             "outlinewidth": 0,
             "ticks": ""
            },
            "colorscale": [
             [
              0,
              "#0d0887"
             ],
             [
              0.1111111111111111,
              "#46039f"
             ],
             [
              0.2222222222222222,
              "#7201a8"
             ],
             [
              0.3333333333333333,
              "#9c179e"
             ],
             [
              0.4444444444444444,
              "#bd3786"
             ],
             [
              0.5555555555555556,
              "#d8576b"
             ],
             [
              0.6666666666666666,
              "#ed7953"
             ],
             [
              0.7777777777777778,
              "#fb9f3a"
             ],
             [
              0.8888888888888888,
              "#fdca26"
             ],
             [
              1,
              "#f0f921"
             ]
            ],
            "type": "histogram2d"
           }
          ],
          "histogram2dcontour": [
           {
            "colorbar": {
             "outlinewidth": 0,
             "ticks": ""
            },
            "colorscale": [
             [
              0,
              "#0d0887"
             ],
             [
              0.1111111111111111,
              "#46039f"
             ],
             [
              0.2222222222222222,
              "#7201a8"
             ],
             [
              0.3333333333333333,
              "#9c179e"
             ],
             [
              0.4444444444444444,
              "#bd3786"
             ],
             [
              0.5555555555555556,
              "#d8576b"
             ],
             [
              0.6666666666666666,
              "#ed7953"
             ],
             [
              0.7777777777777778,
              "#fb9f3a"
             ],
             [
              0.8888888888888888,
              "#fdca26"
             ],
             [
              1,
              "#f0f921"
             ]
            ],
            "type": "histogram2dcontour"
           }
          ],
          "mesh3d": [
           {
            "colorbar": {
             "outlinewidth": 0,
             "ticks": ""
            },
            "type": "mesh3d"
           }
          ],
          "parcoords": [
           {
            "line": {
             "colorbar": {
              "outlinewidth": 0,
              "ticks": ""
             }
            },
            "type": "parcoords"
           }
          ],
          "pie": [
           {
            "automargin": true,
            "type": "pie"
           }
          ],
          "scatter": [
           {
            "fillpattern": {
             "fillmode": "overlay",
             "size": 10,
             "solidity": 0.2
            },
            "type": "scatter"
           }
          ],
          "scatter3d": [
           {
            "line": {
             "colorbar": {
              "outlinewidth": 0,
              "ticks": ""
             }
            },
            "marker": {
             "colorbar": {
              "outlinewidth": 0,
              "ticks": ""
             }
            },
            "type": "scatter3d"
           }
          ],
          "scattercarpet": [
           {
            "marker": {
             "colorbar": {
              "outlinewidth": 0,
              "ticks": ""
             }
            },
            "type": "scattercarpet"
           }
          ],
          "scattergeo": [
           {
            "marker": {
             "colorbar": {
              "outlinewidth": 0,
              "ticks": ""
             }
            },
            "type": "scattergeo"
           }
          ],
          "scattergl": [
           {
            "marker": {
             "colorbar": {
              "outlinewidth": 0,
              "ticks": ""
             }
            },
            "type": "scattergl"
           }
          ],
          "scattermapbox": [
           {
            "marker": {
             "colorbar": {
              "outlinewidth": 0,
              "ticks": ""
             }
            },
            "type": "scattermapbox"
           }
          ],
          "scatterpolar": [
           {
            "marker": {
             "colorbar": {
              "outlinewidth": 0,
              "ticks": ""
             }
            },
            "type": "scatterpolar"
           }
          ],
          "scatterpolargl": [
           {
            "marker": {
             "colorbar": {
              "outlinewidth": 0,
              "ticks": ""
             }
            },
            "type": "scatterpolargl"
           }
          ],
          "scatterternary": [
           {
            "marker": {
             "colorbar": {
              "outlinewidth": 0,
              "ticks": ""
             }
            },
            "type": "scatterternary"
           }
          ],
          "surface": [
           {
            "colorbar": {
             "outlinewidth": 0,
             "ticks": ""
            },
            "colorscale": [
             [
              0,
              "#0d0887"
             ],
             [
              0.1111111111111111,
              "#46039f"
             ],
             [
              0.2222222222222222,
              "#7201a8"
             ],
             [
              0.3333333333333333,
              "#9c179e"
             ],
             [
              0.4444444444444444,
              "#bd3786"
             ],
             [
              0.5555555555555556,
              "#d8576b"
             ],
             [
              0.6666666666666666,
              "#ed7953"
             ],
             [
              0.7777777777777778,
              "#fb9f3a"
             ],
             [
              0.8888888888888888,
              "#fdca26"
             ],
             [
              1,
              "#f0f921"
             ]
            ],
            "type": "surface"
           }
          ],
          "table": [
           {
            "cells": {
             "fill": {
              "color": "#EBF0F8"
             },
             "line": {
              "color": "white"
             }
            },
            "header": {
             "fill": {
              "color": "#C8D4E3"
             },
             "line": {
              "color": "white"
             }
            },
            "type": "table"
           }
          ]
         },
         "layout": {
          "annotationdefaults": {
           "arrowcolor": "#2a3f5f",
           "arrowhead": 0,
           "arrowwidth": 1
          },
          "autotypenumbers": "strict",
          "coloraxis": {
           "colorbar": {
            "outlinewidth": 0,
            "ticks": ""
           }
          },
          "colorscale": {
           "diverging": [
            [
             0,
             "#8e0152"
            ],
            [
             0.1,
             "#c51b7d"
            ],
            [
             0.2,
             "#de77ae"
            ],
            [
             0.3,
             "#f1b6da"
            ],
            [
             0.4,
             "#fde0ef"
            ],
            [
             0.5,
             "#f7f7f7"
            ],
            [
             0.6,
             "#e6f5d0"
            ],
            [
             0.7,
             "#b8e186"
            ],
            [
             0.8,
             "#7fbc41"
            ],
            [
             0.9,
             "#4d9221"
            ],
            [
             1,
             "#276419"
            ]
           ],
           "sequential": [
            [
             0,
             "#0d0887"
            ],
            [
             0.1111111111111111,
             "#46039f"
            ],
            [
             0.2222222222222222,
             "#7201a8"
            ],
            [
             0.3333333333333333,
             "#9c179e"
            ],
            [
             0.4444444444444444,
             "#bd3786"
            ],
            [
             0.5555555555555556,
             "#d8576b"
            ],
            [
             0.6666666666666666,
             "#ed7953"
            ],
            [
             0.7777777777777778,
             "#fb9f3a"
            ],
            [
             0.8888888888888888,
             "#fdca26"
            ],
            [
             1,
             "#f0f921"
            ]
           ],
           "sequentialminus": [
            [
             0,
             "#0d0887"
            ],
            [
             0.1111111111111111,
             "#46039f"
            ],
            [
             0.2222222222222222,
             "#7201a8"
            ],
            [
             0.3333333333333333,
             "#9c179e"
            ],
            [
             0.4444444444444444,
             "#bd3786"
            ],
            [
             0.5555555555555556,
             "#d8576b"
            ],
            [
             0.6666666666666666,
             "#ed7953"
            ],
            [
             0.7777777777777778,
             "#fb9f3a"
            ],
            [
             0.8888888888888888,
             "#fdca26"
            ],
            [
             1,
             "#f0f921"
            ]
           ]
          },
          "colorway": [
           "#636efa",
           "#EF553B",
           "#00cc96",
           "#ab63fa",
           "#FFA15A",
           "#19d3f3",
           "#FF6692",
           "#B6E880",
           "#FF97FF",
           "#FECB52"
          ],
          "font": {
           "color": "#2a3f5f"
          },
          "geo": {
           "bgcolor": "white",
           "lakecolor": "white",
           "landcolor": "#E5ECF6",
           "showlakes": true,
           "showland": true,
           "subunitcolor": "white"
          },
          "hoverlabel": {
           "align": "left"
          },
          "hovermode": "closest",
          "mapbox": {
           "style": "light"
          },
          "paper_bgcolor": "white",
          "plot_bgcolor": "#E5ECF6",
          "polar": {
           "angularaxis": {
            "gridcolor": "white",
            "linecolor": "white",
            "ticks": ""
           },
           "bgcolor": "#E5ECF6",
           "radialaxis": {
            "gridcolor": "white",
            "linecolor": "white",
            "ticks": ""
           }
          },
          "scene": {
           "xaxis": {
            "backgroundcolor": "#E5ECF6",
            "gridcolor": "white",
            "gridwidth": 2,
            "linecolor": "white",
            "showbackground": true,
            "ticks": "",
            "zerolinecolor": "white"
           },
           "yaxis": {
            "backgroundcolor": "#E5ECF6",
            "gridcolor": "white",
            "gridwidth": 2,
            "linecolor": "white",
            "showbackground": true,
            "ticks": "",
            "zerolinecolor": "white"
           },
           "zaxis": {
            "backgroundcolor": "#E5ECF6",
            "gridcolor": "white",
            "gridwidth": 2,
            "linecolor": "white",
            "showbackground": true,
            "ticks": "",
            "zerolinecolor": "white"
           }
          },
          "shapedefaults": {
           "line": {
            "color": "#2a3f5f"
           }
          },
          "ternary": {
           "aaxis": {
            "gridcolor": "white",
            "linecolor": "white",
            "ticks": ""
           },
           "baxis": {
            "gridcolor": "white",
            "linecolor": "white",
            "ticks": ""
           },
           "bgcolor": "#E5ECF6",
           "caxis": {
            "gridcolor": "white",
            "linecolor": "white",
            "ticks": ""
           }
          },
          "title": {
           "x": 0.05
          },
          "xaxis": {
           "automargin": true,
           "gridcolor": "white",
           "linecolor": "white",
           "ticks": "",
           "title": {
            "standoff": 15
           },
           "zerolinecolor": "white",
           "zerolinewidth": 2
          },
          "yaxis": {
           "automargin": true,
           "gridcolor": "white",
           "linecolor": "white",
           "ticks": "",
           "title": {
            "standoff": 15
           },
           "zerolinecolor": "white",
           "zerolinewidth": 2
          }
         }
        },
        "title": {
         "text": "Word Count and Importance of Topic Keywords"
        },
        "xaxis": {
         "anchor": "y",
         "domain": [
          0,
          0.16799999999999998
         ]
        },
        "xaxis2": {
         "anchor": "y2",
         "domain": [
          0.208,
          0.376
         ]
        },
        "xaxis3": {
         "anchor": "y3",
         "domain": [
          0.416,
          0.584
         ]
        },
        "xaxis4": {
         "anchor": "y4",
         "domain": [
          0.624,
          0.792
         ]
        },
        "xaxis5": {
         "anchor": "y5",
         "domain": [
          0.832,
          1
         ]
        },
        "yaxis": {
         "anchor": "x",
         "domain": [
          0,
          1
         ]
        },
        "yaxis2": {
         "anchor": "x2",
         "domain": [
          0,
          1
         ],
         "matches": "y",
         "showticklabels": false
        },
        "yaxis3": {
         "anchor": "x3",
         "domain": [
          0,
          1
         ],
         "matches": "y",
         "showticklabels": false
        },
        "yaxis4": {
         "anchor": "x4",
         "domain": [
          0,
          1
         ],
         "matches": "y",
         "showticklabels": false
        },
        "yaxis5": {
         "anchor": "x5",
         "domain": [
          0,
          1
         ],
         "matches": "y",
         "showticklabels": false
        }
       }
      }
     },
     "metadata": {},
     "output_type": "display_data"
    }
   ],
   "source": [
    "topics = lda_model.show_topics(formatted=False)\n",
    "data_flat = [w for w_list in data_words for w in w_list]\n",
    "counter = Counter(data_flat)\n",
    "\n",
    "out = []\n",
    "for i, topic in topics:\n",
    "    for word, weight in topic:\n",
    "        out.append([word, i, weight, counter[word]])\n",
    "\n",
    "df = pd.DataFrame(out, columns=['word', 'topic_id', 'importance', 'word_count'])\n",
    "\n",
    "# Create subplot\n",
    "fig = make_subplots(rows=1, cols=5, subplot_titles=['Topic: ' + str(i) for i in range(5)],\n",
    "                    shared_yaxes=True, vertical_spacing=0.2)\n",
    "\n",
    "for i in range(5):\n",
    "    subplot_df = df.loc[df.topic_id == i, :]\n",
    "    \n",
    "    # Word Count Bar with text outside and numbers on bars\n",
    "    fig.add_trace(\n",
    "        go.Bar(x=subplot_df['word'], y=subplot_df['word_count'], name='Word Count',\n",
    "               text=subplot_df.apply(lambda row: f\"Word Count: {row['word_count']}, Importance: {row['importance']:.3f}\", axis=1),\n",
    "               hoverinfo='text+x+y',  # Set hover information\n",
    "               textposition='outside'),  # Set text position outside the bars\n",
    "        row=1, col=i + 1\n",
    "    )\n",
    "\n",
    "# Update layout\n",
    "fig.update_layout(\n",
    "    title_text='Word Count and Importance of Topic Keywords',\n",
    "    showlegend=False\n",
    ")\n",
    "\n",
    "fig.show()"
   ]
  },
  {
   "attachments": {},
   "cell_type": "markdown",
   "metadata": {},
   "source": [
    "## (2) Topic Volum across Top Category"
   ]
  },
  {
   "cell_type": "code",
   "execution_count": 120,
   "metadata": {},
   "outputs": [
    {
     "data": {
      "application/vnd.plotly.v1+json": {
       "config": {
        "plotlyServerURL": "https://plot.ly"
       },
       "data": [
        {
         "alignmentgroup": "True",
         "customdata": [
          [
           "studi, poll, health, idea, new, network, guid, hous, diy, plan"
          ],
          [
           "parent, tip, dress, kid, thing, life, child, video, cancer, day"
          ],
          [
           "photo, video, week, new, day, divorc, style, best, recip, love"
          ],
          [
           "video, marriag, hotel, healthi, craft, school, wed, happi, date, teen"
          ],
          [
           "photo, wed, fashion, way, day, need, talk, video, mom, make"
          ]
         ],
         "hovertemplate": "Category=BLACK VOICES<br>Dominant Topic=%{x}<br>Number of Articles=%{text}<br>Topic_Keywords=%{customdata[0]}<extra></extra>",
         "legendgroup": "BLACK VOICES",
         "marker": {
          "color": "#636efa",
          "pattern": {
           "shape": ""
          }
         },
         "name": "BLACK VOICES",
         "offsetgroup": "BLACK VOICES",
         "orientation": "v",
         "showlegend": true,
         "text": [
          793,
          921,
          748,
          1078,
          579
         ],
         "textposition": "outside",
         "type": "bar",
         "x": [
          0,
          1,
          2,
          3,
          4
         ],
         "xaxis": "x",
         "y": [
          793,
          921,
          748,
          1078,
          579
         ],
         "yaxis": "y"
        },
        {
         "alignmentgroup": "True",
         "customdata": [
          [
           "studi, poll, health, idea, new, network, guid, hous, diy, plan"
          ],
          [
           "parent, tip, dress, kid, thing, life, child, video, cancer, day"
          ],
          [
           "photo, video, week, new, day, divorc, style, best, recip, love"
          ],
          [
           "video, marriag, hotel, healthi, craft, school, wed, happi, date, teen"
          ],
          [
           "photo, wed, fashion, way, day, need, talk, video, mom, make"
          ]
         ],
         "hovertemplate": "Category=BUSINESS<br>Dominant Topic=%{x}<br>Number of Articles=%{text}<br>Topic_Keywords=%{customdata[0]}<extra></extra>",
         "legendgroup": "BUSINESS",
         "marker": {
          "color": "#EF553B",
          "pattern": {
           "shape": ""
          }
         },
         "name": "BUSINESS",
         "offsetgroup": "BUSINESS",
         "orientation": "v",
         "showlegend": true,
         "text": [
          2037,
          787,
          638,
          675,
          978
         ],
         "textposition": "outside",
         "type": "bar",
         "x": [
          0,
          1,
          2,
          3,
          4
         ],
         "xaxis": "x",
         "y": [
          2037,
          787,
          638,
          675,
          978
         ],
         "yaxis": "y"
        },
        {
         "alignmentgroup": "True",
         "customdata": [
          [
           "studi, poll, health, idea, new, network, guid, hous, diy, plan"
          ],
          [
           "parent, tip, dress, kid, thing, life, child, video, cancer, day"
          ],
          [
           "photo, video, week, new, day, divorc, style, best, recip, love"
          ],
          [
           "video, marriag, hotel, healthi, craft, school, wed, happi, date, teen"
          ],
          [
           "photo, wed, fashion, way, day, need, talk, video, mom, make"
          ]
         ],
         "hovertemplate": "Category=COMEDY<br>Dominant Topic=%{x}<br>Number of Articles=%{text}<br>Topic_Keywords=%{customdata[0]}<extra></extra>",
         "legendgroup": "COMEDY",
         "marker": {
          "color": "#00cc96",
          "pattern": {
           "shape": ""
          }
         },
         "name": "COMEDY",
         "offsetgroup": "COMEDY",
         "orientation": "v",
         "showlegend": true,
         "text": [
          1940,
          634,
          873,
          509,
          630
         ],
         "textposition": "outside",
         "type": "bar",
         "x": [
          0,
          1,
          2,
          3,
          4
         ],
         "xaxis": "x",
         "y": [
          1940,
          634,
          873,
          509,
          630
         ],
         "yaxis": "y"
        },
        {
         "alignmentgroup": "True",
         "customdata": [
          [
           "studi, poll, health, idea, new, network, guid, hous, diy, plan"
          ],
          [
           "parent, tip, dress, kid, thing, life, child, video, cancer, day"
          ],
          [
           "photo, video, week, new, day, divorc, style, best, recip, love"
          ],
          [
           "video, marriag, hotel, healthi, craft, school, wed, happi, date, teen"
          ],
          [
           "photo, wed, fashion, way, day, need, talk, video, mom, make"
          ]
         ],
         "hovertemplate": "Category=DIVORCE<br>Dominant Topic=%{x}<br>Number of Articles=%{text}<br>Topic_Keywords=%{customdata[0]}<extra></extra>",
         "legendgroup": "DIVORCE",
         "marker": {
          "color": "#ab63fa",
          "pattern": {
           "shape": ""
          }
         },
         "name": "DIVORCE",
         "offsetgroup": "DIVORCE",
         "orientation": "v",
         "showlegend": true,
         "text": [
          382,
          598,
          1119,
          634,
          668
         ],
         "textposition": "outside",
         "type": "bar",
         "x": [
          0,
          1,
          2,
          3,
          4
         ],
         "xaxis": "x",
         "y": [
          382,
          598,
          1119,
          634,
          668
         ],
         "yaxis": "y"
        },
        {
         "alignmentgroup": "True",
         "customdata": [
          [
           "studi, poll, health, idea, new, network, guid, hous, diy, plan"
          ],
          [
           "parent, tip, dress, kid, thing, life, child, video, cancer, day"
          ],
          [
           "photo, video, week, new, day, divorc, style, best, recip, love"
          ],
          [
           "video, marriag, hotel, healthi, craft, school, wed, happi, date, teen"
          ],
          [
           "photo, wed, fashion, way, day, need, talk, video, mom, make"
          ]
         ],
         "hovertemplate": "Category=ENTERTAINMENT<br>Dominant Topic=%{x}<br>Number of Articles=%{text}<br>Topic_Keywords=%{customdata[0]}<extra></extra>",
         "legendgroup": "ENTERTAINMENT",
         "marker": {
          "color": "#FFA15A",
          "pattern": {
           "shape": ""
          }
         },
         "name": "ENTERTAINMENT",
         "offsetgroup": "ENTERTAINMENT",
         "orientation": "v",
         "showlegend": true,
         "text": [
          2055,
          2148,
          4462,
          2921,
          2969
         ],
         "textposition": "outside",
         "type": "bar",
         "x": [
          0,
          1,
          2,
          3,
          4
         ],
         "xaxis": "x",
         "y": [
          2055,
          2148,
          4462,
          2921,
          2969
         ],
         "yaxis": "y"
        },
        {
         "alignmentgroup": "True",
         "customdata": [
          [
           "studi, poll, health, idea, new, network, guid, hous, diy, plan"
          ],
          [
           "parent, tip, dress, kid, thing, life, child, video, cancer, day"
          ],
          [
           "photo, video, week, new, day, divorc, style, best, recip, love"
          ],
          [
           "video, marriag, hotel, healthi, craft, school, wed, happi, date, teen"
          ],
          [
           "photo, wed, fashion, way, day, need, talk, video, mom, make"
          ]
         ],
         "hovertemplate": "Category=FOOD & DRINK<br>Dominant Topic=%{x}<br>Number of Articles=%{text}<br>Topic_Keywords=%{customdata[0]}<extra></extra>",
         "legendgroup": "FOOD & DRINK",
         "marker": {
          "color": "#19d3f3",
          "pattern": {
           "shape": ""
          }
         },
         "name": "FOOD & DRINK",
         "offsetgroup": "FOOD & DRINK",
         "orientation": "v",
         "showlegend": true,
         "text": [
          737,
          1578,
          2228,
          495,
          1282
         ],
         "textposition": "outside",
         "type": "bar",
         "x": [
          0,
          1,
          2,
          3,
          4
         ],
         "xaxis": "x",
         "y": [
          737,
          1578,
          2228,
          495,
          1282
         ],
         "yaxis": "y"
        },
        {
         "alignmentgroup": "True",
         "customdata": [
          [
           "studi, poll, health, idea, new, network, guid, hous, diy, plan"
          ],
          [
           "parent, tip, dress, kid, thing, life, child, video, cancer, day"
          ],
          [
           "photo, video, week, new, day, divorc, style, best, recip, love"
          ],
          [
           "video, marriag, hotel, healthi, craft, school, wed, happi, date, teen"
          ],
          [
           "photo, wed, fashion, way, day, need, talk, video, mom, make"
          ]
         ],
         "hovertemplate": "Category=HEALTHY LIVING<br>Dominant Topic=%{x}<br>Number of Articles=%{text}<br>Topic_Keywords=%{customdata[0]}<extra></extra>",
         "legendgroup": "HEALTHY LIVING",
         "marker": {
          "color": "#FF6692",
          "pattern": {
           "shape": ""
          }
         },
         "name": "HEALTHY LIVING",
         "offsetgroup": "HEALTHY LIVING",
         "orientation": "v",
         "showlegend": true,
         "text": [
          1142,
          1316,
          712,
          731,
          1296
         ],
         "textposition": "outside",
         "type": "bar",
         "x": [
          0,
          1,
          2,
          3,
          4
         ],
         "xaxis": "x",
         "y": [
          1142,
          1316,
          712,
          731,
          1296
         ],
         "yaxis": "y"
        },
        {
         "alignmentgroup": "True",
         "customdata": [
          [
           "studi, poll, health, idea, new, network, guid, hous, diy, plan"
          ],
          [
           "parent, tip, dress, kid, thing, life, child, video, cancer, day"
          ],
          [
           "photo, video, week, new, day, divorc, style, best, recip, love"
          ],
          [
           "video, marriag, hotel, healthi, craft, school, wed, happi, date, teen"
          ],
          [
           "photo, wed, fashion, way, day, need, talk, video, mom, make"
          ]
         ],
         "hovertemplate": "Category=HOME & LIVING<br>Dominant Topic=%{x}<br>Number of Articles=%{text}<br>Topic_Keywords=%{customdata[0]}<extra></extra>",
         "legendgroup": "HOME & LIVING",
         "marker": {
          "color": "#B6E880",
          "pattern": {
           "shape": ""
          }
         },
         "name": "HOME & LIVING",
         "offsetgroup": "HOME & LIVING",
         "orientation": "v",
         "showlegend": true,
         "text": [
          539,
          945,
          1384,
          358,
          920
         ],
         "textposition": "outside",
         "type": "bar",
         "x": [
          0,
          1,
          2,
          3,
          4
         ],
         "xaxis": "x",
         "y": [
          539,
          945,
          1384,
          358,
          920
         ],
         "yaxis": "y"
        },
        {
         "alignmentgroup": "True",
         "customdata": [
          [
           "studi, poll, health, idea, new, network, guid, hous, diy, plan"
          ],
          [
           "parent, tip, dress, kid, thing, life, child, video, cancer, day"
          ],
          [
           "photo, video, week, new, day, divorc, style, best, recip, love"
          ],
          [
           "video, marriag, hotel, healthi, craft, school, wed, happi, date, teen"
          ],
          [
           "photo, wed, fashion, way, day, need, talk, video, mom, make"
          ]
         ],
         "hovertemplate": "Category=PARENTING<br>Dominant Topic=%{x}<br>Number of Articles=%{text}<br>Topic_Keywords=%{customdata[0]}<extra></extra>",
         "legendgroup": "PARENTING",
         "marker": {
          "color": "#FF97FF",
          "pattern": {
           "shape": ""
          }
         },
         "name": "PARENTING",
         "offsetgroup": "PARENTING",
         "orientation": "v",
         "showlegend": true,
         "text": [
          967,
          2657,
          1493,
          1434,
          2187
         ],
         "textposition": "outside",
         "type": "bar",
         "x": [
          0,
          1,
          2,
          3,
          4
         ],
         "xaxis": "x",
         "y": [
          967,
          2657,
          1493,
          1434,
          2187
         ],
         "yaxis": "y"
        },
        {
         "alignmentgroup": "True",
         "customdata": [
          [
           "studi, poll, health, idea, new, network, guid, hous, diy, plan"
          ],
          [
           "parent, tip, dress, kid, thing, life, child, video, cancer, day"
          ],
          [
           "photo, video, week, new, day, divorc, style, best, recip, love"
          ],
          [
           "video, marriag, hotel, healthi, craft, school, wed, happi, date, teen"
          ],
          [
           "photo, wed, fashion, way, day, need, talk, video, mom, make"
          ]
         ],
         "hovertemplate": "Category=PARENTS<br>Dominant Topic=%{x}<br>Number of Articles=%{text}<br>Topic_Keywords=%{customdata[0]}<extra></extra>",
         "legendgroup": "PARENTS",
         "marker": {
          "color": "#FECB52",
          "pattern": {
           "shape": ""
          }
         },
         "name": "PARENTS",
         "offsetgroup": "PARENTS",
         "orientation": "v",
         "showlegend": true,
         "text": [
          325,
          952,
          655,
          529,
          972
         ],
         "textposition": "outside",
         "type": "bar",
         "x": [
          0,
          1,
          2,
          3,
          4
         ],
         "xaxis": "x",
         "y": [
          325,
          952,
          655,
          529,
          972
         ],
         "yaxis": "y"
        },
        {
         "alignmentgroup": "True",
         "customdata": [
          [
           "studi, poll, health, idea, new, network, guid, hous, diy, plan"
          ],
          [
           "parent, tip, dress, kid, thing, life, child, video, cancer, day"
          ],
          [
           "photo, video, week, new, day, divorc, style, best, recip, love"
          ],
          [
           "video, marriag, hotel, healthi, craft, school, wed, happi, date, teen"
          ],
          [
           "photo, wed, fashion, way, day, need, talk, video, mom, make"
          ]
         ],
         "hovertemplate": "Category=POLITICS<br>Dominant Topic=%{x}<br>Number of Articles=%{text}<br>Topic_Keywords=%{customdata[0]}<extra></extra>",
         "legendgroup": "POLITICS",
         "marker": {
          "color": "#636efa",
          "pattern": {
           "shape": ""
          }
         },
         "name": "POLITICS",
         "offsetgroup": "POLITICS",
         "orientation": "v",
         "showlegend": true,
         "text": [
          20347,
          2425,
          1771,
          4379,
          3046
         ],
         "textposition": "outside",
         "type": "bar",
         "x": [
          0,
          1,
          2,
          3,
          4
         ],
         "xaxis": "x",
         "y": [
          20347,
          2425,
          1771,
          4379,
          3046
         ],
         "yaxis": "y"
        },
        {
         "alignmentgroup": "True",
         "customdata": [
          [
           "studi, poll, health, idea, new, network, guid, hous, diy, plan"
          ],
          [
           "parent, tip, dress, kid, thing, life, child, video, cancer, day"
          ],
          [
           "photo, video, week, new, day, divorc, style, best, recip, love"
          ],
          [
           "video, marriag, hotel, healthi, craft, school, wed, happi, date, teen"
          ],
          [
           "photo, wed, fashion, way, day, need, talk, video, mom, make"
          ]
         ],
         "hovertemplate": "Category=QUEER VOICES<br>Dominant Topic=%{x}<br>Number of Articles=%{text}<br>Topic_Keywords=%{customdata[0]}<extra></extra>",
         "legendgroup": "QUEER VOICES",
         "marker": {
          "color": "#EF553B",
          "pattern": {
           "shape": ""
          }
         },
         "name": "QUEER VOICES",
         "offsetgroup": "QUEER VOICES",
         "orientation": "v",
         "showlegend": true,
         "text": [
          870,
          1319,
          864,
          1502,
          883
         ],
         "textposition": "outside",
         "type": "bar",
         "x": [
          0,
          1,
          2,
          3,
          4
         ],
         "xaxis": "x",
         "y": [
          870,
          1319,
          864,
          1502,
          883
         ],
         "yaxis": "y"
        },
        {
         "alignmentgroup": "True",
         "customdata": [
          [
           "studi, poll, health, idea, new, network, guid, hous, diy, plan"
          ],
          [
           "parent, tip, dress, kid, thing, life, child, video, cancer, day"
          ],
          [
           "photo, video, week, new, day, divorc, style, best, recip, love"
          ],
          [
           "video, marriag, hotel, healthi, craft, school, wed, happi, date, teen"
          ],
          [
           "photo, wed, fashion, way, day, need, talk, video, mom, make"
          ]
         ],
         "hovertemplate": "Category=SPORTS<br>Dominant Topic=%{x}<br>Number of Articles=%{text}<br>Topic_Keywords=%{customdata[0]}<extra></extra>",
         "legendgroup": "SPORTS",
         "marker": {
          "color": "#00cc96",
          "pattern": {
           "shape": ""
          }
         },
         "name": "SPORTS",
         "offsetgroup": "SPORTS",
         "orientation": "v",
         "showlegend": true,
         "text": [
          643,
          682,
          1193,
          1312,
          549
         ],
         "textposition": "outside",
         "type": "bar",
         "x": [
          0,
          1,
          2,
          3,
          4
         ],
         "xaxis": "x",
         "y": [
          643,
          682,
          1193,
          1312,
          549
         ],
         "yaxis": "y"
        },
        {
         "alignmentgroup": "True",
         "customdata": [
          [
           "studi, poll, health, idea, new, network, guid, hous, diy, plan"
          ],
          [
           "parent, tip, dress, kid, thing, life, child, video, cancer, day"
          ],
          [
           "photo, video, week, new, day, divorc, style, best, recip, love"
          ],
          [
           "video, marriag, hotel, healthi, craft, school, wed, happi, date, teen"
          ],
          [
           "photo, wed, fashion, way, day, need, talk, video, mom, make"
          ]
         ],
         "hovertemplate": "Category=STYLE & BEAUTY<br>Dominant Topic=%{x}<br>Number of Articles=%{text}<br>Topic_Keywords=%{customdata[0]}<extra></extra>",
         "legendgroup": "STYLE & BEAUTY",
         "marker": {
          "color": "#ab63fa",
          "pattern": {
           "shape": ""
          }
         },
         "name": "STYLE & BEAUTY",
         "offsetgroup": "STYLE & BEAUTY",
         "orientation": "v",
         "showlegend": true,
         "text": [
          765,
          1465,
          3577,
          807,
          2704
         ],
         "textposition": "outside",
         "type": "bar",
         "x": [
          0,
          1,
          2,
          3,
          4
         ],
         "xaxis": "x",
         "y": [
          765,
          1465,
          3577,
          807,
          2704
         ],
         "yaxis": "y"
        },
        {
         "alignmentgroup": "True",
         "customdata": [
          [
           "studi, poll, health, idea, new, network, guid, hous, diy, plan"
          ],
          [
           "parent, tip, dress, kid, thing, life, child, video, cancer, day"
          ],
          [
           "photo, video, week, new, day, divorc, style, best, recip, love"
          ],
          [
           "video, marriag, hotel, healthi, craft, school, wed, happi, date, teen"
          ],
          [
           "photo, wed, fashion, way, day, need, talk, video, mom, make"
          ]
         ],
         "hovertemplate": "Category=THE WORLDPOST<br>Dominant Topic=%{x}<br>Number of Articles=%{text}<br>Topic_Keywords=%{customdata[0]}<extra></extra>",
         "legendgroup": "THE WORLDPOST",
         "marker": {
          "color": "#FFA15A",
          "pattern": {
           "shape": ""
          }
         },
         "name": "THE WORLDPOST",
         "offsetgroup": "THE WORLDPOST",
         "orientation": "v",
         "showlegend": true,
         "text": [
          1102,
          430,
          385,
          1346,
          394
         ],
         "textposition": "outside",
         "type": "bar",
         "x": [
          0,
          1,
          2,
          3,
          4
         ],
         "xaxis": "x",
         "y": [
          1102,
          430,
          385,
          1346,
          394
         ],
         "yaxis": "y"
        },
        {
         "alignmentgroup": "True",
         "customdata": [
          [
           "studi, poll, health, idea, new, network, guid, hous, diy, plan"
          ],
          [
           "parent, tip, dress, kid, thing, life, child, video, cancer, day"
          ],
          [
           "photo, video, week, new, day, divorc, style, best, recip, love"
          ],
          [
           "video, marriag, hotel, healthi, craft, school, wed, happi, date, teen"
          ],
          [
           "photo, wed, fashion, way, day, need, talk, video, mom, make"
          ]
         ],
         "hovertemplate": "Category=TRAVEL<br>Dominant Topic=%{x}<br>Number of Articles=%{text}<br>Topic_Keywords=%{customdata[0]}<extra></extra>",
         "legendgroup": "TRAVEL",
         "marker": {
          "color": "#19d3f3",
          "pattern": {
           "shape": ""
          }
         },
         "name": "TRAVEL",
         "offsetgroup": "TRAVEL",
         "orientation": "v",
         "showlegend": true,
         "text": [
          1337,
          2229,
          2761,
          1386,
          1674
         ],
         "textposition": "outside",
         "type": "bar",
         "x": [
          0,
          1,
          2,
          3,
          4
         ],
         "xaxis": "x",
         "y": [
          1337,
          2229,
          2761,
          1386,
          1674
         ],
         "yaxis": "y"
        },
        {
         "alignmentgroup": "True",
         "customdata": [
          [
           "studi, poll, health, idea, new, network, guid, hous, diy, plan"
          ],
          [
           "parent, tip, dress, kid, thing, life, child, video, cancer, day"
          ],
          [
           "photo, video, week, new, day, divorc, style, best, recip, love"
          ],
          [
           "video, marriag, hotel, healthi, craft, school, wed, happi, date, teen"
          ],
          [
           "photo, wed, fashion, way, day, need, talk, video, mom, make"
          ]
         ],
         "hovertemplate": "Category=WEDDINGS<br>Dominant Topic=%{x}<br>Number of Articles=%{text}<br>Topic_Keywords=%{customdata[0]}<extra></extra>",
         "legendgroup": "WEDDINGS",
         "marker": {
          "color": "#FF6692",
          "pattern": {
           "shape": ""
          }
         },
         "name": "WEDDINGS",
         "offsetgroup": "WEDDINGS",
         "orientation": "v",
         "showlegend": true,
         "text": [
          349,
          439,
          971,
          661,
          1227
         ],
         "textposition": "outside",
         "type": "bar",
         "x": [
          0,
          1,
          2,
          3,
          4
         ],
         "xaxis": "x",
         "y": [
          349,
          439,
          971,
          661,
          1227
         ],
         "yaxis": "y"
        },
        {
         "alignmentgroup": "True",
         "customdata": [
          [
           "studi, poll, health, idea, new, network, guid, hous, diy, plan"
          ],
          [
           "parent, tip, dress, kid, thing, life, child, video, cancer, day"
          ],
          [
           "photo, video, week, new, day, divorc, style, best, recip, love"
          ],
          [
           "video, marriag, hotel, healthi, craft, school, wed, happi, date, teen"
          ],
          [
           "photo, wed, fashion, way, day, need, talk, video, mom, make"
          ]
         ],
         "hovertemplate": "Category=WELLNESS<br>Dominant Topic=%{x}<br>Number of Articles=%{text}<br>Topic_Keywords=%{customdata[0]}<extra></extra>",
         "legendgroup": "WELLNESS",
         "marker": {
          "color": "#B6E880",
          "pattern": {
           "shape": ""
          }
         },
         "name": "WELLNESS",
         "offsetgroup": "WELLNESS",
         "orientation": "v",
         "showlegend": true,
         "text": [
          3641,
          4766,
          2841,
          2504,
          3915
         ],
         "textposition": "outside",
         "type": "bar",
         "x": [
          0,
          1,
          2,
          3,
          4
         ],
         "xaxis": "x",
         "y": [
          3641,
          4766,
          2841,
          2504,
          3915
         ],
         "yaxis": "y"
        },
        {
         "alignmentgroup": "True",
         "customdata": [
          [
           "studi, poll, health, idea, new, network, guid, hous, diy, plan"
          ],
          [
           "parent, tip, dress, kid, thing, life, child, video, cancer, day"
          ],
          [
           "photo, video, week, new, day, divorc, style, best, recip, love"
          ],
          [
           "video, marriag, hotel, healthi, craft, school, wed, happi, date, teen"
          ],
          [
           "photo, wed, fashion, way, day, need, talk, video, mom, make"
          ]
         ],
         "hovertemplate": "Category=WOMEN<br>Dominant Topic=%{x}<br>Number of Articles=%{text}<br>Topic_Keywords=%{customdata[0]}<extra></extra>",
         "legendgroup": "WOMEN",
         "marker": {
          "color": "#FF97FF",
          "pattern": {
           "shape": ""
          }
         },
         "name": "WOMEN",
         "offsetgroup": "WOMEN",
         "orientation": "v",
         "showlegend": true,
         "text": [
          643,
          718,
          433,
          634,
          677
         ],
         "textposition": "outside",
         "type": "bar",
         "x": [
          0,
          1,
          2,
          3,
          4
         ],
         "xaxis": "x",
         "y": [
          643,
          718,
          433,
          634,
          677
         ],
         "yaxis": "y"
        },
        {
         "alignmentgroup": "True",
         "customdata": [
          [
           "studi, poll, health, idea, new, network, guid, hous, diy, plan"
          ],
          [
           "parent, tip, dress, kid, thing, life, child, video, cancer, day"
          ],
          [
           "photo, video, week, new, day, divorc, style, best, recip, love"
          ],
          [
           "video, marriag, hotel, healthi, craft, school, wed, happi, date, teen"
          ],
          [
           "photo, wed, fashion, way, day, need, talk, video, mom, make"
          ]
         ],
         "hovertemplate": "Category=WORLD NEWS<br>Dominant Topic=%{x}<br>Number of Articles=%{text}<br>Topic_Keywords=%{customdata[0]}<extra></extra>",
         "legendgroup": "WORLD NEWS",
         "marker": {
          "color": "#FECB52",
          "pattern": {
           "shape": ""
          }
         },
         "name": "WORLD NEWS",
         "offsetgroup": "WORLD NEWS",
         "orientation": "v",
         "showlegend": true,
         "text": [
          928,
          344,
          430,
          1102,
          486
         ],
         "textposition": "outside",
         "type": "bar",
         "x": [
          0,
          1,
          2,
          3,
          4
         ],
         "xaxis": "x",
         "y": [
          928,
          344,
          430,
          1102,
          486
         ],
         "yaxis": "y"
        }
       ],
       "layout": {
        "barmode": "group",
        "legend": {
         "title": {
          "text": "Category"
         },
         "tracegroupgap": 0
        },
        "margin": {
         "t": 60
        },
        "template": {
         "data": {
          "bar": [
           {
            "error_x": {
             "color": "#2a3f5f"
            },
            "error_y": {
             "color": "#2a3f5f"
            },
            "marker": {
             "line": {
              "color": "#E5ECF6",
              "width": 0.5
             },
             "pattern": {
              "fillmode": "overlay",
              "size": 10,
              "solidity": 0.2
             }
            },
            "type": "bar"
           }
          ],
          "barpolar": [
           {
            "marker": {
             "line": {
              "color": "#E5ECF6",
              "width": 0.5
             },
             "pattern": {
              "fillmode": "overlay",
              "size": 10,
              "solidity": 0.2
             }
            },
            "type": "barpolar"
           }
          ],
          "carpet": [
           {
            "aaxis": {
             "endlinecolor": "#2a3f5f",
             "gridcolor": "white",
             "linecolor": "white",
             "minorgridcolor": "white",
             "startlinecolor": "#2a3f5f"
            },
            "baxis": {
             "endlinecolor": "#2a3f5f",
             "gridcolor": "white",
             "linecolor": "white",
             "minorgridcolor": "white",
             "startlinecolor": "#2a3f5f"
            },
            "type": "carpet"
           }
          ],
          "choropleth": [
           {
            "colorbar": {
             "outlinewidth": 0,
             "ticks": ""
            },
            "type": "choropleth"
           }
          ],
          "contour": [
           {
            "colorbar": {
             "outlinewidth": 0,
             "ticks": ""
            },
            "colorscale": [
             [
              0,
              "#0d0887"
             ],
             [
              0.1111111111111111,
              "#46039f"
             ],
             [
              0.2222222222222222,
              "#7201a8"
             ],
             [
              0.3333333333333333,
              "#9c179e"
             ],
             [
              0.4444444444444444,
              "#bd3786"
             ],
             [
              0.5555555555555556,
              "#d8576b"
             ],
             [
              0.6666666666666666,
              "#ed7953"
             ],
             [
              0.7777777777777778,
              "#fb9f3a"
             ],
             [
              0.8888888888888888,
              "#fdca26"
             ],
             [
              1,
              "#f0f921"
             ]
            ],
            "type": "contour"
           }
          ],
          "contourcarpet": [
           {
            "colorbar": {
             "outlinewidth": 0,
             "ticks": ""
            },
            "type": "contourcarpet"
           }
          ],
          "heatmap": [
           {
            "colorbar": {
             "outlinewidth": 0,
             "ticks": ""
            },
            "colorscale": [
             [
              0,
              "#0d0887"
             ],
             [
              0.1111111111111111,
              "#46039f"
             ],
             [
              0.2222222222222222,
              "#7201a8"
             ],
             [
              0.3333333333333333,
              "#9c179e"
             ],
             [
              0.4444444444444444,
              "#bd3786"
             ],
             [
              0.5555555555555556,
              "#d8576b"
             ],
             [
              0.6666666666666666,
              "#ed7953"
             ],
             [
              0.7777777777777778,
              "#fb9f3a"
             ],
             [
              0.8888888888888888,
              "#fdca26"
             ],
             [
              1,
              "#f0f921"
             ]
            ],
            "type": "heatmap"
           }
          ],
          "heatmapgl": [
           {
            "colorbar": {
             "outlinewidth": 0,
             "ticks": ""
            },
            "colorscale": [
             [
              0,
              "#0d0887"
             ],
             [
              0.1111111111111111,
              "#46039f"
             ],
             [
              0.2222222222222222,
              "#7201a8"
             ],
             [
              0.3333333333333333,
              "#9c179e"
             ],
             [
              0.4444444444444444,
              "#bd3786"
             ],
             [
              0.5555555555555556,
              "#d8576b"
             ],
             [
              0.6666666666666666,
              "#ed7953"
             ],
             [
              0.7777777777777778,
              "#fb9f3a"
             ],
             [
              0.8888888888888888,
              "#fdca26"
             ],
             [
              1,
              "#f0f921"
             ]
            ],
            "type": "heatmapgl"
           }
          ],
          "histogram": [
           {
            "marker": {
             "pattern": {
              "fillmode": "overlay",
              "size": 10,
              "solidity": 0.2
             }
            },
            "type": "histogram"
           }
          ],
          "histogram2d": [
           {
            "colorbar": {
             "outlinewidth": 0,
             "ticks": ""
            },
            "colorscale": [
             [
              0,
              "#0d0887"
             ],
             [
              0.1111111111111111,
              "#46039f"
             ],
             [
              0.2222222222222222,
              "#7201a8"
             ],
             [
              0.3333333333333333,
              "#9c179e"
             ],
             [
              0.4444444444444444,
              "#bd3786"
             ],
             [
              0.5555555555555556,
              "#d8576b"
             ],
             [
              0.6666666666666666,
              "#ed7953"
             ],
             [
              0.7777777777777778,
              "#fb9f3a"
             ],
             [
              0.8888888888888888,
              "#fdca26"
             ],
             [
              1,
              "#f0f921"
             ]
            ],
            "type": "histogram2d"
           }
          ],
          "histogram2dcontour": [
           {
            "colorbar": {
             "outlinewidth": 0,
             "ticks": ""
            },
            "colorscale": [
             [
              0,
              "#0d0887"
             ],
             [
              0.1111111111111111,
              "#46039f"
             ],
             [
              0.2222222222222222,
              "#7201a8"
             ],
             [
              0.3333333333333333,
              "#9c179e"
             ],
             [
              0.4444444444444444,
              "#bd3786"
             ],
             [
              0.5555555555555556,
              "#d8576b"
             ],
             [
              0.6666666666666666,
              "#ed7953"
             ],
             [
              0.7777777777777778,
              "#fb9f3a"
             ],
             [
              0.8888888888888888,
              "#fdca26"
             ],
             [
              1,
              "#f0f921"
             ]
            ],
            "type": "histogram2dcontour"
           }
          ],
          "mesh3d": [
           {
            "colorbar": {
             "outlinewidth": 0,
             "ticks": ""
            },
            "type": "mesh3d"
           }
          ],
          "parcoords": [
           {
            "line": {
             "colorbar": {
              "outlinewidth": 0,
              "ticks": ""
             }
            },
            "type": "parcoords"
           }
          ],
          "pie": [
           {
            "automargin": true,
            "type": "pie"
           }
          ],
          "scatter": [
           {
            "fillpattern": {
             "fillmode": "overlay",
             "size": 10,
             "solidity": 0.2
            },
            "type": "scatter"
           }
          ],
          "scatter3d": [
           {
            "line": {
             "colorbar": {
              "outlinewidth": 0,
              "ticks": ""
             }
            },
            "marker": {
             "colorbar": {
              "outlinewidth": 0,
              "ticks": ""
             }
            },
            "type": "scatter3d"
           }
          ],
          "scattercarpet": [
           {
            "marker": {
             "colorbar": {
              "outlinewidth": 0,
              "ticks": ""
             }
            },
            "type": "scattercarpet"
           }
          ],
          "scattergeo": [
           {
            "marker": {
             "colorbar": {
              "outlinewidth": 0,
              "ticks": ""
             }
            },
            "type": "scattergeo"
           }
          ],
          "scattergl": [
           {
            "marker": {
             "colorbar": {
              "outlinewidth": 0,
              "ticks": ""
             }
            },
            "type": "scattergl"
           }
          ],
          "scattermapbox": [
           {
            "marker": {
             "colorbar": {
              "outlinewidth": 0,
              "ticks": ""
             }
            },
            "type": "scattermapbox"
           }
          ],
          "scatterpolar": [
           {
            "marker": {
             "colorbar": {
              "outlinewidth": 0,
              "ticks": ""
             }
            },
            "type": "scatterpolar"
           }
          ],
          "scatterpolargl": [
           {
            "marker": {
             "colorbar": {
              "outlinewidth": 0,
              "ticks": ""
             }
            },
            "type": "scatterpolargl"
           }
          ],
          "scatterternary": [
           {
            "marker": {
             "colorbar": {
              "outlinewidth": 0,
              "ticks": ""
             }
            },
            "type": "scatterternary"
           }
          ],
          "surface": [
           {
            "colorbar": {
             "outlinewidth": 0,
             "ticks": ""
            },
            "colorscale": [
             [
              0,
              "#0d0887"
             ],
             [
              0.1111111111111111,
              "#46039f"
             ],
             [
              0.2222222222222222,
              "#7201a8"
             ],
             [
              0.3333333333333333,
              "#9c179e"
             ],
             [
              0.4444444444444444,
              "#bd3786"
             ],
             [
              0.5555555555555556,
              "#d8576b"
             ],
             [
              0.6666666666666666,
              "#ed7953"
             ],
             [
              0.7777777777777778,
              "#fb9f3a"
             ],
             [
              0.8888888888888888,
              "#fdca26"
             ],
             [
              1,
              "#f0f921"
             ]
            ],
            "type": "surface"
           }
          ],
          "table": [
           {
            "cells": {
             "fill": {
              "color": "#EBF0F8"
             },
             "line": {
              "color": "white"
             }
            },
            "header": {
             "fill": {
              "color": "#C8D4E3"
             },
             "line": {
              "color": "white"
             }
            },
            "type": "table"
           }
          ]
         },
         "layout": {
          "annotationdefaults": {
           "arrowcolor": "#2a3f5f",
           "arrowhead": 0,
           "arrowwidth": 1
          },
          "autotypenumbers": "strict",
          "coloraxis": {
           "colorbar": {
            "outlinewidth": 0,
            "ticks": ""
           }
          },
          "colorscale": {
           "diverging": [
            [
             0,
             "#8e0152"
            ],
            [
             0.1,
             "#c51b7d"
            ],
            [
             0.2,
             "#de77ae"
            ],
            [
             0.3,
             "#f1b6da"
            ],
            [
             0.4,
             "#fde0ef"
            ],
            [
             0.5,
             "#f7f7f7"
            ],
            [
             0.6,
             "#e6f5d0"
            ],
            [
             0.7,
             "#b8e186"
            ],
            [
             0.8,
             "#7fbc41"
            ],
            [
             0.9,
             "#4d9221"
            ],
            [
             1,
             "#276419"
            ]
           ],
           "sequential": [
            [
             0,
             "#0d0887"
            ],
            [
             0.1111111111111111,
             "#46039f"
            ],
            [
             0.2222222222222222,
             "#7201a8"
            ],
            [
             0.3333333333333333,
             "#9c179e"
            ],
            [
             0.4444444444444444,
             "#bd3786"
            ],
            [
             0.5555555555555556,
             "#d8576b"
            ],
            [
             0.6666666666666666,
             "#ed7953"
            ],
            [
             0.7777777777777778,
             "#fb9f3a"
            ],
            [
             0.8888888888888888,
             "#fdca26"
            ],
            [
             1,
             "#f0f921"
            ]
           ],
           "sequentialminus": [
            [
             0,
             "#0d0887"
            ],
            [
             0.1111111111111111,
             "#46039f"
            ],
            [
             0.2222222222222222,
             "#7201a8"
            ],
            [
             0.3333333333333333,
             "#9c179e"
            ],
            [
             0.4444444444444444,
             "#bd3786"
            ],
            [
             0.5555555555555556,
             "#d8576b"
            ],
            [
             0.6666666666666666,
             "#ed7953"
            ],
            [
             0.7777777777777778,
             "#fb9f3a"
            ],
            [
             0.8888888888888888,
             "#fdca26"
            ],
            [
             1,
             "#f0f921"
            ]
           ]
          },
          "colorway": [
           "#636efa",
           "#EF553B",
           "#00cc96",
           "#ab63fa",
           "#FFA15A",
           "#19d3f3",
           "#FF6692",
           "#B6E880",
           "#FF97FF",
           "#FECB52"
          ],
          "font": {
           "color": "#2a3f5f"
          },
          "geo": {
           "bgcolor": "white",
           "lakecolor": "white",
           "landcolor": "#E5ECF6",
           "showlakes": true,
           "showland": true,
           "subunitcolor": "white"
          },
          "hoverlabel": {
           "align": "left"
          },
          "hovermode": "closest",
          "mapbox": {
           "style": "light"
          },
          "paper_bgcolor": "white",
          "plot_bgcolor": "#E5ECF6",
          "polar": {
           "angularaxis": {
            "gridcolor": "white",
            "linecolor": "white",
            "ticks": ""
           },
           "bgcolor": "#E5ECF6",
           "radialaxis": {
            "gridcolor": "white",
            "linecolor": "white",
            "ticks": ""
           }
          },
          "scene": {
           "xaxis": {
            "backgroundcolor": "#E5ECF6",
            "gridcolor": "white",
            "gridwidth": 2,
            "linecolor": "white",
            "showbackground": true,
            "ticks": "",
            "zerolinecolor": "white"
           },
           "yaxis": {
            "backgroundcolor": "#E5ECF6",
            "gridcolor": "white",
            "gridwidth": 2,
            "linecolor": "white",
            "showbackground": true,
            "ticks": "",
            "zerolinecolor": "white"
           },
           "zaxis": {
            "backgroundcolor": "#E5ECF6",
            "gridcolor": "white",
            "gridwidth": 2,
            "linecolor": "white",
            "showbackground": true,
            "ticks": "",
            "zerolinecolor": "white"
           }
          },
          "shapedefaults": {
           "line": {
            "color": "#2a3f5f"
           }
          },
          "ternary": {
           "aaxis": {
            "gridcolor": "white",
            "linecolor": "white",
            "ticks": ""
           },
           "baxis": {
            "gridcolor": "white",
            "linecolor": "white",
            "ticks": ""
           },
           "bgcolor": "#E5ECF6",
           "caxis": {
            "gridcolor": "white",
            "linecolor": "white",
            "ticks": ""
           }
          },
          "title": {
           "x": 0.05
          },
          "xaxis": {
           "automargin": true,
           "gridcolor": "white",
           "linecolor": "white",
           "ticks": "",
           "title": {
            "standoff": 15
           },
           "zerolinecolor": "white",
           "zerolinewidth": 2
          },
          "yaxis": {
           "automargin": true,
           "gridcolor": "white",
           "linecolor": "white",
           "ticks": "",
           "title": {
            "standoff": 15
           },
           "zerolinecolor": "white",
           "zerolinewidth": 2
          }
         }
        },
        "uniformtext": {
         "minsize": 8,
         "mode": "hide"
        },
        "xaxis": {
         "anchor": "y",
         "domain": [
          0,
          1
         ],
         "title": {
          "text": "Dominant Topic"
         }
        },
        "yaxis": {
         "anchor": "x",
         "domain": [
          0,
          1
         ],
         "title": {
          "text": "Number of Articles"
         }
        }
       }
      }
     },
     "metadata": {},
     "output_type": "display_data"
    }
   ],
   "source": [
    "fig = px.bar(top_category_dominant_topic_df, \n",
    "             x='Dominant_Topic', \n",
    "             y='Count',\n",
    "             text='Count',\n",
    "             hover_data=['Topic_Keywords'],\n",
    "             color='Category',\n",
    "             labels={'Count':'Number of Articles','Dominant_Topic':'Dominant Topic'},\n",
    "             barmode=\"group\",\n",
    "             )\n",
    "\n",
    "fig.update_traces(textposition='outside')\n",
    "fig.update_layout(uniformtext_minsize=8, uniformtext_mode='hide')\n",
    "\n",
    "fig.show()"
   ]
  },
  {
   "cell_type": "code",
   "execution_count": 122,
   "metadata": {},
   "outputs": [
    {
     "name": "stderr",
     "output_type": "stream",
     "text": [
      "/var/folders/8z/bh49v41x6lvglzsbnqnzbrhm0000gn/T/ipykernel_14988/1393112568.py:1: SettingWithCopyWarning:\n",
      "\n",
      "\n",
      "A value is trying to be set on a copy of a slice from a DataFrame.\n",
      "Try using .loc[row_indexer,col_indexer] = value instead\n",
      "\n",
      "See the caveats in the documentation: https://pandas.pydata.org/pandas-docs/stable/user_guide/indexing.html#returning-a-view-versus-a-copy\n",
      "\n"
     ]
    },
    {
     "data": {
      "application/vnd.plotly.v1+json": {
       "config": {
        "plotlyServerURL": "https://plot.ly"
       },
       "data": [
        {
         "alignmentgroup": "True",
         "customdata": [
          [
           "studi, poll, health, idea, new, network, guid, hous, diy, plan"
          ],
          [
           "studi, poll, health, idea, new, network, guid, hous, diy, plan"
          ],
          [
           "studi, poll, health, idea, new, network, guid, hous, diy, plan"
          ],
          [
           "studi, poll, health, idea, new, network, guid, hous, diy, plan"
          ],
          [
           "studi, poll, health, idea, new, network, guid, hous, diy, plan"
          ],
          [
           "studi, poll, health, idea, new, network, guid, hous, diy, plan"
          ],
          [
           "studi, poll, health, idea, new, network, guid, hous, diy, plan"
          ],
          [
           "studi, poll, health, idea, new, network, guid, hous, diy, plan"
          ],
          [
           "studi, poll, health, idea, new, network, guid, hous, diy, plan"
          ],
          [
           "studi, poll, health, idea, new, network, guid, hous, diy, plan"
          ],
          [
           "studi, poll, health, idea, new, network, guid, hous, diy, plan"
          ],
          [
           "studi, poll, health, idea, new, network, guid, hous, diy, plan"
          ],
          [
           "studi, poll, health, idea, new, network, guid, hous, diy, plan"
          ],
          [
           "studi, poll, health, idea, new, network, guid, hous, diy, plan"
          ],
          [
           "studi, poll, health, idea, new, network, guid, hous, diy, plan"
          ],
          [
           "studi, poll, health, idea, new, network, guid, hous, diy, plan"
          ],
          [
           "studi, poll, health, idea, new, network, guid, hous, diy, plan"
          ],
          [
           "studi, poll, health, idea, new, network, guid, hous, diy, plan"
          ],
          [
           "studi, poll, health, idea, new, network, guid, hous, diy, plan"
          ],
          [
           "studi, poll, health, idea, new, network, guid, hous, diy, plan"
          ]
         ],
         "hovertemplate": "Dominant_Topic=0<br>Category=%{x}<br>Number of Articles=%{text}<br>Topic_Keywords=%{customdata[0]}<extra></extra>",
         "legendgroup": "0",
         "marker": {
          "color": "#636efa",
          "pattern": {
           "shape": ""
          }
         },
         "name": "0",
         "offsetgroup": "0",
         "orientation": "v",
         "showlegend": true,
         "text": [
          793,
          2037,
          1940,
          382,
          2055,
          737,
          1142,
          539,
          967,
          325,
          20347,
          870,
          643,
          765,
          1102,
          1337,
          349,
          3641,
          643,
          928
         ],
         "textposition": "outside",
         "type": "bar",
         "x": [
          "BLACK VOICES",
          "BUSINESS",
          "COMEDY",
          "DIVORCE",
          "ENTERTAINMENT",
          "FOOD & DRINK",
          "HEALTHY LIVING",
          "HOME & LIVING",
          "PARENTING",
          "PARENTS",
          "POLITICS",
          "QUEER VOICES",
          "SPORTS",
          "STYLE & BEAUTY",
          "THE WORLDPOST",
          "TRAVEL",
          "WEDDINGS",
          "WELLNESS",
          "WOMEN",
          "WORLD NEWS"
         ],
         "xaxis": "x",
         "y": [
          793,
          2037,
          1940,
          382,
          2055,
          737,
          1142,
          539,
          967,
          325,
          20347,
          870,
          643,
          765,
          1102,
          1337,
          349,
          3641,
          643,
          928
         ],
         "yaxis": "y"
        },
        {
         "alignmentgroup": "True",
         "customdata": [
          [
           "parent, tip, dress, kid, thing, life, child, video, cancer, day"
          ],
          [
           "parent, tip, dress, kid, thing, life, child, video, cancer, day"
          ],
          [
           "parent, tip, dress, kid, thing, life, child, video, cancer, day"
          ],
          [
           "parent, tip, dress, kid, thing, life, child, video, cancer, day"
          ],
          [
           "parent, tip, dress, kid, thing, life, child, video, cancer, day"
          ],
          [
           "parent, tip, dress, kid, thing, life, child, video, cancer, day"
          ],
          [
           "parent, tip, dress, kid, thing, life, child, video, cancer, day"
          ],
          [
           "parent, tip, dress, kid, thing, life, child, video, cancer, day"
          ],
          [
           "parent, tip, dress, kid, thing, life, child, video, cancer, day"
          ],
          [
           "parent, tip, dress, kid, thing, life, child, video, cancer, day"
          ],
          [
           "parent, tip, dress, kid, thing, life, child, video, cancer, day"
          ],
          [
           "parent, tip, dress, kid, thing, life, child, video, cancer, day"
          ],
          [
           "parent, tip, dress, kid, thing, life, child, video, cancer, day"
          ],
          [
           "parent, tip, dress, kid, thing, life, child, video, cancer, day"
          ],
          [
           "parent, tip, dress, kid, thing, life, child, video, cancer, day"
          ],
          [
           "parent, tip, dress, kid, thing, life, child, video, cancer, day"
          ],
          [
           "parent, tip, dress, kid, thing, life, child, video, cancer, day"
          ],
          [
           "parent, tip, dress, kid, thing, life, child, video, cancer, day"
          ],
          [
           "parent, tip, dress, kid, thing, life, child, video, cancer, day"
          ],
          [
           "parent, tip, dress, kid, thing, life, child, video, cancer, day"
          ]
         ],
         "hovertemplate": "Dominant_Topic=1<br>Category=%{x}<br>Number of Articles=%{text}<br>Topic_Keywords=%{customdata[0]}<extra></extra>",
         "legendgroup": "1",
         "marker": {
          "color": "#EF553B",
          "pattern": {
           "shape": ""
          }
         },
         "name": "1",
         "offsetgroup": "1",
         "orientation": "v",
         "showlegend": true,
         "text": [
          921,
          787,
          634,
          598,
          2148,
          1578,
          1316,
          945,
          2657,
          952,
          2425,
          1319,
          682,
          1465,
          430,
          2229,
          439,
          4766,
          718,
          344
         ],
         "textposition": "outside",
         "type": "bar",
         "x": [
          "BLACK VOICES",
          "BUSINESS",
          "COMEDY",
          "DIVORCE",
          "ENTERTAINMENT",
          "FOOD & DRINK",
          "HEALTHY LIVING",
          "HOME & LIVING",
          "PARENTING",
          "PARENTS",
          "POLITICS",
          "QUEER VOICES",
          "SPORTS",
          "STYLE & BEAUTY",
          "THE WORLDPOST",
          "TRAVEL",
          "WEDDINGS",
          "WELLNESS",
          "WOMEN",
          "WORLD NEWS"
         ],
         "xaxis": "x",
         "y": [
          921,
          787,
          634,
          598,
          2148,
          1578,
          1316,
          945,
          2657,
          952,
          2425,
          1319,
          682,
          1465,
          430,
          2229,
          439,
          4766,
          718,
          344
         ],
         "yaxis": "y"
        },
        {
         "alignmentgroup": "True",
         "customdata": [
          [
           "photo, video, week, new, day, divorc, style, best, recip, love"
          ],
          [
           "photo, video, week, new, day, divorc, style, best, recip, love"
          ],
          [
           "photo, video, week, new, day, divorc, style, best, recip, love"
          ],
          [
           "photo, video, week, new, day, divorc, style, best, recip, love"
          ],
          [
           "photo, video, week, new, day, divorc, style, best, recip, love"
          ],
          [
           "photo, video, week, new, day, divorc, style, best, recip, love"
          ],
          [
           "photo, video, week, new, day, divorc, style, best, recip, love"
          ],
          [
           "photo, video, week, new, day, divorc, style, best, recip, love"
          ],
          [
           "photo, video, week, new, day, divorc, style, best, recip, love"
          ],
          [
           "photo, video, week, new, day, divorc, style, best, recip, love"
          ],
          [
           "photo, video, week, new, day, divorc, style, best, recip, love"
          ],
          [
           "photo, video, week, new, day, divorc, style, best, recip, love"
          ],
          [
           "photo, video, week, new, day, divorc, style, best, recip, love"
          ],
          [
           "photo, video, week, new, day, divorc, style, best, recip, love"
          ],
          [
           "photo, video, week, new, day, divorc, style, best, recip, love"
          ],
          [
           "photo, video, week, new, day, divorc, style, best, recip, love"
          ],
          [
           "photo, video, week, new, day, divorc, style, best, recip, love"
          ],
          [
           "photo, video, week, new, day, divorc, style, best, recip, love"
          ],
          [
           "photo, video, week, new, day, divorc, style, best, recip, love"
          ],
          [
           "photo, video, week, new, day, divorc, style, best, recip, love"
          ]
         ],
         "hovertemplate": "Dominant_Topic=2<br>Category=%{x}<br>Number of Articles=%{text}<br>Topic_Keywords=%{customdata[0]}<extra></extra>",
         "legendgroup": "2",
         "marker": {
          "color": "#00cc96",
          "pattern": {
           "shape": ""
          }
         },
         "name": "2",
         "offsetgroup": "2",
         "orientation": "v",
         "showlegend": true,
         "text": [
          748,
          638,
          873,
          1119,
          4462,
          2228,
          712,
          1384,
          1493,
          655,
          1771,
          864,
          1193,
          3577,
          385,
          2761,
          971,
          2841,
          433,
          430
         ],
         "textposition": "outside",
         "type": "bar",
         "x": [
          "BLACK VOICES",
          "BUSINESS",
          "COMEDY",
          "DIVORCE",
          "ENTERTAINMENT",
          "FOOD & DRINK",
          "HEALTHY LIVING",
          "HOME & LIVING",
          "PARENTING",
          "PARENTS",
          "POLITICS",
          "QUEER VOICES",
          "SPORTS",
          "STYLE & BEAUTY",
          "THE WORLDPOST",
          "TRAVEL",
          "WEDDINGS",
          "WELLNESS",
          "WOMEN",
          "WORLD NEWS"
         ],
         "xaxis": "x",
         "y": [
          748,
          638,
          873,
          1119,
          4462,
          2228,
          712,
          1384,
          1493,
          655,
          1771,
          864,
          1193,
          3577,
          385,
          2761,
          971,
          2841,
          433,
          430
         ],
         "yaxis": "y"
        },
        {
         "alignmentgroup": "True",
         "customdata": [
          [
           "video, marriag, hotel, healthi, craft, school, wed, happi, date, teen"
          ],
          [
           "video, marriag, hotel, healthi, craft, school, wed, happi, date, teen"
          ],
          [
           "video, marriag, hotel, healthi, craft, school, wed, happi, date, teen"
          ],
          [
           "video, marriag, hotel, healthi, craft, school, wed, happi, date, teen"
          ],
          [
           "video, marriag, hotel, healthi, craft, school, wed, happi, date, teen"
          ],
          [
           "video, marriag, hotel, healthi, craft, school, wed, happi, date, teen"
          ],
          [
           "video, marriag, hotel, healthi, craft, school, wed, happi, date, teen"
          ],
          [
           "video, marriag, hotel, healthi, craft, school, wed, happi, date, teen"
          ],
          [
           "video, marriag, hotel, healthi, craft, school, wed, happi, date, teen"
          ],
          [
           "video, marriag, hotel, healthi, craft, school, wed, happi, date, teen"
          ],
          [
           "video, marriag, hotel, healthi, craft, school, wed, happi, date, teen"
          ],
          [
           "video, marriag, hotel, healthi, craft, school, wed, happi, date, teen"
          ],
          [
           "video, marriag, hotel, healthi, craft, school, wed, happi, date, teen"
          ],
          [
           "video, marriag, hotel, healthi, craft, school, wed, happi, date, teen"
          ],
          [
           "video, marriag, hotel, healthi, craft, school, wed, happi, date, teen"
          ],
          [
           "video, marriag, hotel, healthi, craft, school, wed, happi, date, teen"
          ],
          [
           "video, marriag, hotel, healthi, craft, school, wed, happi, date, teen"
          ],
          [
           "video, marriag, hotel, healthi, craft, school, wed, happi, date, teen"
          ],
          [
           "video, marriag, hotel, healthi, craft, school, wed, happi, date, teen"
          ],
          [
           "video, marriag, hotel, healthi, craft, school, wed, happi, date, teen"
          ]
         ],
         "hovertemplate": "Dominant_Topic=3<br>Category=%{x}<br>Number of Articles=%{text}<br>Topic_Keywords=%{customdata[0]}<extra></extra>",
         "legendgroup": "3",
         "marker": {
          "color": "#ab63fa",
          "pattern": {
           "shape": ""
          }
         },
         "name": "3",
         "offsetgroup": "3",
         "orientation": "v",
         "showlegend": true,
         "text": [
          1078,
          675,
          509,
          634,
          2921,
          495,
          731,
          358,
          1434,
          529,
          4379,
          1502,
          1312,
          807,
          1346,
          1386,
          661,
          2504,
          634,
          1102
         ],
         "textposition": "outside",
         "type": "bar",
         "x": [
          "BLACK VOICES",
          "BUSINESS",
          "COMEDY",
          "DIVORCE",
          "ENTERTAINMENT",
          "FOOD & DRINK",
          "HEALTHY LIVING",
          "HOME & LIVING",
          "PARENTING",
          "PARENTS",
          "POLITICS",
          "QUEER VOICES",
          "SPORTS",
          "STYLE & BEAUTY",
          "THE WORLDPOST",
          "TRAVEL",
          "WEDDINGS",
          "WELLNESS",
          "WOMEN",
          "WORLD NEWS"
         ],
         "xaxis": "x",
         "y": [
          1078,
          675,
          509,
          634,
          2921,
          495,
          731,
          358,
          1434,
          529,
          4379,
          1502,
          1312,
          807,
          1346,
          1386,
          661,
          2504,
          634,
          1102
         ],
         "yaxis": "y"
        },
        {
         "alignmentgroup": "True",
         "customdata": [
          [
           "photo, wed, fashion, way, day, need, talk, video, mom, make"
          ],
          [
           "photo, wed, fashion, way, day, need, talk, video, mom, make"
          ],
          [
           "photo, wed, fashion, way, day, need, talk, video, mom, make"
          ],
          [
           "photo, wed, fashion, way, day, need, talk, video, mom, make"
          ],
          [
           "photo, wed, fashion, way, day, need, talk, video, mom, make"
          ],
          [
           "photo, wed, fashion, way, day, need, talk, video, mom, make"
          ],
          [
           "photo, wed, fashion, way, day, need, talk, video, mom, make"
          ],
          [
           "photo, wed, fashion, way, day, need, talk, video, mom, make"
          ],
          [
           "photo, wed, fashion, way, day, need, talk, video, mom, make"
          ],
          [
           "photo, wed, fashion, way, day, need, talk, video, mom, make"
          ],
          [
           "photo, wed, fashion, way, day, need, talk, video, mom, make"
          ],
          [
           "photo, wed, fashion, way, day, need, talk, video, mom, make"
          ],
          [
           "photo, wed, fashion, way, day, need, talk, video, mom, make"
          ],
          [
           "photo, wed, fashion, way, day, need, talk, video, mom, make"
          ],
          [
           "photo, wed, fashion, way, day, need, talk, video, mom, make"
          ],
          [
           "photo, wed, fashion, way, day, need, talk, video, mom, make"
          ],
          [
           "photo, wed, fashion, way, day, need, talk, video, mom, make"
          ],
          [
           "photo, wed, fashion, way, day, need, talk, video, mom, make"
          ],
          [
           "photo, wed, fashion, way, day, need, talk, video, mom, make"
          ],
          [
           "photo, wed, fashion, way, day, need, talk, video, mom, make"
          ]
         ],
         "hovertemplate": "Dominant_Topic=4<br>Category=%{x}<br>Number of Articles=%{text}<br>Topic_Keywords=%{customdata[0]}<extra></extra>",
         "legendgroup": "4",
         "marker": {
          "color": "#FFA15A",
          "pattern": {
           "shape": ""
          }
         },
         "name": "4",
         "offsetgroup": "4",
         "orientation": "v",
         "showlegend": true,
         "text": [
          579,
          978,
          630,
          668,
          2969,
          1282,
          1296,
          920,
          2187,
          972,
          3046,
          883,
          549,
          2704,
          394,
          1674,
          1227,
          3915,
          677,
          486
         ],
         "textposition": "outside",
         "type": "bar",
         "x": [
          "BLACK VOICES",
          "BUSINESS",
          "COMEDY",
          "DIVORCE",
          "ENTERTAINMENT",
          "FOOD & DRINK",
          "HEALTHY LIVING",
          "HOME & LIVING",
          "PARENTING",
          "PARENTS",
          "POLITICS",
          "QUEER VOICES",
          "SPORTS",
          "STYLE & BEAUTY",
          "THE WORLDPOST",
          "TRAVEL",
          "WEDDINGS",
          "WELLNESS",
          "WOMEN",
          "WORLD NEWS"
         ],
         "xaxis": "x",
         "y": [
          579,
          978,
          630,
          668,
          2969,
          1282,
          1296,
          920,
          2187,
          972,
          3046,
          883,
          549,
          2704,
          394,
          1674,
          1227,
          3915,
          677,
          486
         ],
         "yaxis": "y"
        }
       ],
       "layout": {
        "barmode": "stack",
        "legend": {
         "title": {
          "text": "Dominant_Topic"
         },
         "tracegroupgap": 0
        },
        "margin": {
         "t": 60
        },
        "template": {
         "data": {
          "bar": [
           {
            "error_x": {
             "color": "#2a3f5f"
            },
            "error_y": {
             "color": "#2a3f5f"
            },
            "marker": {
             "line": {
              "color": "#E5ECF6",
              "width": 0.5
             },
             "pattern": {
              "fillmode": "overlay",
              "size": 10,
              "solidity": 0.2
             }
            },
            "type": "bar"
           }
          ],
          "barpolar": [
           {
            "marker": {
             "line": {
              "color": "#E5ECF6",
              "width": 0.5
             },
             "pattern": {
              "fillmode": "overlay",
              "size": 10,
              "solidity": 0.2
             }
            },
            "type": "barpolar"
           }
          ],
          "carpet": [
           {
            "aaxis": {
             "endlinecolor": "#2a3f5f",
             "gridcolor": "white",
             "linecolor": "white",
             "minorgridcolor": "white",
             "startlinecolor": "#2a3f5f"
            },
            "baxis": {
             "endlinecolor": "#2a3f5f",
             "gridcolor": "white",
             "linecolor": "white",
             "minorgridcolor": "white",
             "startlinecolor": "#2a3f5f"
            },
            "type": "carpet"
           }
          ],
          "choropleth": [
           {
            "colorbar": {
             "outlinewidth": 0,
             "ticks": ""
            },
            "type": "choropleth"
           }
          ],
          "contour": [
           {
            "colorbar": {
             "outlinewidth": 0,
             "ticks": ""
            },
            "colorscale": [
             [
              0,
              "#0d0887"
             ],
             [
              0.1111111111111111,
              "#46039f"
             ],
             [
              0.2222222222222222,
              "#7201a8"
             ],
             [
              0.3333333333333333,
              "#9c179e"
             ],
             [
              0.4444444444444444,
              "#bd3786"
             ],
             [
              0.5555555555555556,
              "#d8576b"
             ],
             [
              0.6666666666666666,
              "#ed7953"
             ],
             [
              0.7777777777777778,
              "#fb9f3a"
             ],
             [
              0.8888888888888888,
              "#fdca26"
             ],
             [
              1,
              "#f0f921"
             ]
            ],
            "type": "contour"
           }
          ],
          "contourcarpet": [
           {
            "colorbar": {
             "outlinewidth": 0,
             "ticks": ""
            },
            "type": "contourcarpet"
           }
          ],
          "heatmap": [
           {
            "colorbar": {
             "outlinewidth": 0,
             "ticks": ""
            },
            "colorscale": [
             [
              0,
              "#0d0887"
             ],
             [
              0.1111111111111111,
              "#46039f"
             ],
             [
              0.2222222222222222,
              "#7201a8"
             ],
             [
              0.3333333333333333,
              "#9c179e"
             ],
             [
              0.4444444444444444,
              "#bd3786"
             ],
             [
              0.5555555555555556,
              "#d8576b"
             ],
             [
              0.6666666666666666,
              "#ed7953"
             ],
             [
              0.7777777777777778,
              "#fb9f3a"
             ],
             [
              0.8888888888888888,
              "#fdca26"
             ],
             [
              1,
              "#f0f921"
             ]
            ],
            "type": "heatmap"
           }
          ],
          "heatmapgl": [
           {
            "colorbar": {
             "outlinewidth": 0,
             "ticks": ""
            },
            "colorscale": [
             [
              0,
              "#0d0887"
             ],
             [
              0.1111111111111111,
              "#46039f"
             ],
             [
              0.2222222222222222,
              "#7201a8"
             ],
             [
              0.3333333333333333,
              "#9c179e"
             ],
             [
              0.4444444444444444,
              "#bd3786"
             ],
             [
              0.5555555555555556,
              "#d8576b"
             ],
             [
              0.6666666666666666,
              "#ed7953"
             ],
             [
              0.7777777777777778,
              "#fb9f3a"
             ],
             [
              0.8888888888888888,
              "#fdca26"
             ],
             [
              1,
              "#f0f921"
             ]
            ],
            "type": "heatmapgl"
           }
          ],
          "histogram": [
           {
            "marker": {
             "pattern": {
              "fillmode": "overlay",
              "size": 10,
              "solidity": 0.2
             }
            },
            "type": "histogram"
           }
          ],
          "histogram2d": [
           {
            "colorbar": {
             "outlinewidth": 0,
             "ticks": ""
            },
            "colorscale": [
             [
              0,
              "#0d0887"
             ],
             [
              0.1111111111111111,
              "#46039f"
             ],
             [
              0.2222222222222222,
              "#7201a8"
             ],
             [
              0.3333333333333333,
              "#9c179e"
             ],
             [
              0.4444444444444444,
              "#bd3786"
             ],
             [
              0.5555555555555556,
              "#d8576b"
             ],
             [
              0.6666666666666666,
              "#ed7953"
             ],
             [
              0.7777777777777778,
              "#fb9f3a"
             ],
             [
              0.8888888888888888,
              "#fdca26"
             ],
             [
              1,
              "#f0f921"
             ]
            ],
            "type": "histogram2d"
           }
          ],
          "histogram2dcontour": [
           {
            "colorbar": {
             "outlinewidth": 0,
             "ticks": ""
            },
            "colorscale": [
             [
              0,
              "#0d0887"
             ],
             [
              0.1111111111111111,
              "#46039f"
             ],
             [
              0.2222222222222222,
              "#7201a8"
             ],
             [
              0.3333333333333333,
              "#9c179e"
             ],
             [
              0.4444444444444444,
              "#bd3786"
             ],
             [
              0.5555555555555556,
              "#d8576b"
             ],
             [
              0.6666666666666666,
              "#ed7953"
             ],
             [
              0.7777777777777778,
              "#fb9f3a"
             ],
             [
              0.8888888888888888,
              "#fdca26"
             ],
             [
              1,
              "#f0f921"
             ]
            ],
            "type": "histogram2dcontour"
           }
          ],
          "mesh3d": [
           {
            "colorbar": {
             "outlinewidth": 0,
             "ticks": ""
            },
            "type": "mesh3d"
           }
          ],
          "parcoords": [
           {
            "line": {
             "colorbar": {
              "outlinewidth": 0,
              "ticks": ""
             }
            },
            "type": "parcoords"
           }
          ],
          "pie": [
           {
            "automargin": true,
            "type": "pie"
           }
          ],
          "scatter": [
           {
            "fillpattern": {
             "fillmode": "overlay",
             "size": 10,
             "solidity": 0.2
            },
            "type": "scatter"
           }
          ],
          "scatter3d": [
           {
            "line": {
             "colorbar": {
              "outlinewidth": 0,
              "ticks": ""
             }
            },
            "marker": {
             "colorbar": {
              "outlinewidth": 0,
              "ticks": ""
             }
            },
            "type": "scatter3d"
           }
          ],
          "scattercarpet": [
           {
            "marker": {
             "colorbar": {
              "outlinewidth": 0,
              "ticks": ""
             }
            },
            "type": "scattercarpet"
           }
          ],
          "scattergeo": [
           {
            "marker": {
             "colorbar": {
              "outlinewidth": 0,
              "ticks": ""
             }
            },
            "type": "scattergeo"
           }
          ],
          "scattergl": [
           {
            "marker": {
             "colorbar": {
              "outlinewidth": 0,
              "ticks": ""
             }
            },
            "type": "scattergl"
           }
          ],
          "scattermapbox": [
           {
            "marker": {
             "colorbar": {
              "outlinewidth": 0,
              "ticks": ""
             }
            },
            "type": "scattermapbox"
           }
          ],
          "scatterpolar": [
           {
            "marker": {
             "colorbar": {
              "outlinewidth": 0,
              "ticks": ""
             }
            },
            "type": "scatterpolar"
           }
          ],
          "scatterpolargl": [
           {
            "marker": {
             "colorbar": {
              "outlinewidth": 0,
              "ticks": ""
             }
            },
            "type": "scatterpolargl"
           }
          ],
          "scatterternary": [
           {
            "marker": {
             "colorbar": {
              "outlinewidth": 0,
              "ticks": ""
             }
            },
            "type": "scatterternary"
           }
          ],
          "surface": [
           {
            "colorbar": {
             "outlinewidth": 0,
             "ticks": ""
            },
            "colorscale": [
             [
              0,
              "#0d0887"
             ],
             [
              0.1111111111111111,
              "#46039f"
             ],
             [
              0.2222222222222222,
              "#7201a8"
             ],
             [
              0.3333333333333333,
              "#9c179e"
             ],
             [
              0.4444444444444444,
              "#bd3786"
             ],
             [
              0.5555555555555556,
              "#d8576b"
             ],
             [
              0.6666666666666666,
              "#ed7953"
             ],
             [
              0.7777777777777778,
              "#fb9f3a"
             ],
             [
              0.8888888888888888,
              "#fdca26"
             ],
             [
              1,
              "#f0f921"
             ]
            ],
            "type": "surface"
           }
          ],
          "table": [
           {
            "cells": {
             "fill": {
              "color": "#EBF0F8"
             },
             "line": {
              "color": "white"
             }
            },
            "header": {
             "fill": {
              "color": "#C8D4E3"
             },
             "line": {
              "color": "white"
             }
            },
            "type": "table"
           }
          ]
         },
         "layout": {
          "annotationdefaults": {
           "arrowcolor": "#2a3f5f",
           "arrowhead": 0,
           "arrowwidth": 1
          },
          "autotypenumbers": "strict",
          "coloraxis": {
           "colorbar": {
            "outlinewidth": 0,
            "ticks": ""
           }
          },
          "colorscale": {
           "diverging": [
            [
             0,
             "#8e0152"
            ],
            [
             0.1,
             "#c51b7d"
            ],
            [
             0.2,
             "#de77ae"
            ],
            [
             0.3,
             "#f1b6da"
            ],
            [
             0.4,
             "#fde0ef"
            ],
            [
             0.5,
             "#f7f7f7"
            ],
            [
             0.6,
             "#e6f5d0"
            ],
            [
             0.7,
             "#b8e186"
            ],
            [
             0.8,
             "#7fbc41"
            ],
            [
             0.9,
             "#4d9221"
            ],
            [
             1,
             "#276419"
            ]
           ],
           "sequential": [
            [
             0,
             "#0d0887"
            ],
            [
             0.1111111111111111,
             "#46039f"
            ],
            [
             0.2222222222222222,
             "#7201a8"
            ],
            [
             0.3333333333333333,
             "#9c179e"
            ],
            [
             0.4444444444444444,
             "#bd3786"
            ],
            [
             0.5555555555555556,
             "#d8576b"
            ],
            [
             0.6666666666666666,
             "#ed7953"
            ],
            [
             0.7777777777777778,
             "#fb9f3a"
            ],
            [
             0.8888888888888888,
             "#fdca26"
            ],
            [
             1,
             "#f0f921"
            ]
           ],
           "sequentialminus": [
            [
             0,
             "#0d0887"
            ],
            [
             0.1111111111111111,
             "#46039f"
            ],
            [
             0.2222222222222222,
             "#7201a8"
            ],
            [
             0.3333333333333333,
             "#9c179e"
            ],
            [
             0.4444444444444444,
             "#bd3786"
            ],
            [
             0.5555555555555556,
             "#d8576b"
            ],
            [
             0.6666666666666666,
             "#ed7953"
            ],
            [
             0.7777777777777778,
             "#fb9f3a"
            ],
            [
             0.8888888888888888,
             "#fdca26"
            ],
            [
             1,
             "#f0f921"
            ]
           ]
          },
          "colorway": [
           "#636efa",
           "#EF553B",
           "#00cc96",
           "#ab63fa",
           "#FFA15A",
           "#19d3f3",
           "#FF6692",
           "#B6E880",
           "#FF97FF",
           "#FECB52"
          ],
          "font": {
           "color": "#2a3f5f"
          },
          "geo": {
           "bgcolor": "white",
           "lakecolor": "white",
           "landcolor": "#E5ECF6",
           "showlakes": true,
           "showland": true,
           "subunitcolor": "white"
          },
          "hoverlabel": {
           "align": "left"
          },
          "hovermode": "closest",
          "mapbox": {
           "style": "light"
          },
          "paper_bgcolor": "white",
          "plot_bgcolor": "#E5ECF6",
          "polar": {
           "angularaxis": {
            "gridcolor": "white",
            "linecolor": "white",
            "ticks": ""
           },
           "bgcolor": "#E5ECF6",
           "radialaxis": {
            "gridcolor": "white",
            "linecolor": "white",
            "ticks": ""
           }
          },
          "scene": {
           "xaxis": {
            "backgroundcolor": "#E5ECF6",
            "gridcolor": "white",
            "gridwidth": 2,
            "linecolor": "white",
            "showbackground": true,
            "ticks": "",
            "zerolinecolor": "white"
           },
           "yaxis": {
            "backgroundcolor": "#E5ECF6",
            "gridcolor": "white",
            "gridwidth": 2,
            "linecolor": "white",
            "showbackground": true,
            "ticks": "",
            "zerolinecolor": "white"
           },
           "zaxis": {
            "backgroundcolor": "#E5ECF6",
            "gridcolor": "white",
            "gridwidth": 2,
            "linecolor": "white",
            "showbackground": true,
            "ticks": "",
            "zerolinecolor": "white"
           }
          },
          "shapedefaults": {
           "line": {
            "color": "#2a3f5f"
           }
          },
          "ternary": {
           "aaxis": {
            "gridcolor": "white",
            "linecolor": "white",
            "ticks": ""
           },
           "baxis": {
            "gridcolor": "white",
            "linecolor": "white",
            "ticks": ""
           },
           "bgcolor": "#E5ECF6",
           "caxis": {
            "gridcolor": "white",
            "linecolor": "white",
            "ticks": ""
           }
          },
          "title": {
           "x": 0.05
          },
          "xaxis": {
           "automargin": true,
           "gridcolor": "white",
           "linecolor": "white",
           "ticks": "",
           "title": {
            "standoff": 15
           },
           "zerolinecolor": "white",
           "zerolinewidth": 2
          },
          "yaxis": {
           "automargin": true,
           "gridcolor": "white",
           "linecolor": "white",
           "ticks": "",
           "title": {
            "standoff": 15
           },
           "zerolinecolor": "white",
           "zerolinewidth": 2
          }
         }
        },
        "uniformtext": {
         "minsize": 8,
         "mode": "hide"
        },
        "xaxis": {
         "anchor": "y",
         "domain": [
          0,
          1
         ],
         "title": {
          "text": "Category"
         }
        },
        "yaxis": {
         "anchor": "x",
         "domain": [
          0,
          1
         ],
         "title": {
          "text": "Number of Articles"
         }
        }
       }
      }
     },
     "metadata": {},
     "output_type": "display_data"
    }
   ],
   "source": [
    "top_category_dominant_topic_df['Dominant_Topic'] = top_category_dominant_topic_df['Dominant_Topic'].astype(str)\n",
    "\n",
    "fig = px.bar(top_category_dominant_topic_df, \n",
    "             x='Category', \n",
    "             y='Count',\n",
    "             text='Count',\n",
    "             hover_data=['Topic_Keywords'],\n",
    "             color='Dominant_Topic',\n",
    "             labels={'Count':'Number of Articles'},\n",
    "             barmode=\"stack\",\n",
    "            #  facet_col=\"Dominant_Topic\",\n",
    "            #  category_orders={\"Dominant_Topic\": [\"0\", \"1\", \"2\", \"3\", \"4\"]}\n",
    "             )\n",
    "\n",
    "fig.update_traces(textposition='outside')\n",
    "fig.update_layout(uniformtext_minsize=8, uniformtext_mode='hide')\n",
    "\n",
    "fig.show()"
   ]
  },
  {
   "attachments": {},
   "cell_type": "markdown",
   "metadata": {},
   "source": [
    "## (3) Dominant Topic-Category Distribution"
   ]
  },
  {
   "cell_type": "code",
   "execution_count": 178,
   "metadata": {},
   "outputs": [
    {
     "data": {
      "text/html": [
       "<div>\n",
       "<style scoped>\n",
       "    .dataframe tbody tr th:only-of-type {\n",
       "        vertical-align: middle;\n",
       "    }\n",
       "\n",
       "    .dataframe tbody tr th {\n",
       "        vertical-align: top;\n",
       "    }\n",
       "\n",
       "    .dataframe thead th {\n",
       "        text-align: right;\n",
       "    }\n",
       "</style>\n",
       "<table border=\"1\" class=\"dataframe\">\n",
       "  <thead>\n",
       "    <tr style=\"text-align: right;\">\n",
       "      <th></th>\n",
       "      <th>Dominant_Topic</th>\n",
       "      <th>Perc_Contribution</th>\n",
       "      <th>Topic_Keywords</th>\n",
       "      <th>headline</th>\n",
       "      <th>category</th>\n",
       "      <th>date</th>\n",
       "    </tr>\n",
       "  </thead>\n",
       "  <tbody>\n",
       "    <tr>\n",
       "      <th>0</th>\n",
       "      <td>4</td>\n",
       "      <td>0.3399</td>\n",
       "      <td>photo, wed, fashion, way, day, need, talk, vid...</td>\n",
       "      <td>Over 4 Million Americans Roll Up Sleeves For O...</td>\n",
       "      <td>U.S. NEWS</td>\n",
       "      <td>2022-09-23</td>\n",
       "    </tr>\n",
       "    <tr>\n",
       "      <th>1</th>\n",
       "      <td>1</td>\n",
       "      <td>0.7432</td>\n",
       "      <td>parent, tip, dress, kid, thing, life, child, v...</td>\n",
       "      <td>23 Of The Funniest Tweets About Cats And Dogs ...</td>\n",
       "      <td>COMEDY</td>\n",
       "      <td>2022-09-23</td>\n",
       "    </tr>\n",
       "    <tr>\n",
       "      <th>2</th>\n",
       "      <td>1</td>\n",
       "      <td>0.6273</td>\n",
       "      <td>parent, tip, dress, kid, thing, life, child, v...</td>\n",
       "      <td>The Funniest Tweets From Parents This Week (Se...</td>\n",
       "      <td>PARENTING</td>\n",
       "      <td>2022-09-23</td>\n",
       "    </tr>\n",
       "    <tr>\n",
       "      <th>3</th>\n",
       "      <td>1</td>\n",
       "      <td>0.4880</td>\n",
       "      <td>parent, tip, dress, kid, thing, life, child, v...</td>\n",
       "      <td>American Airlines Flyer Charged, Banned For Li...</td>\n",
       "      <td>U.S. NEWS</td>\n",
       "      <td>2022-09-23</td>\n",
       "    </tr>\n",
       "    <tr>\n",
       "      <th>4</th>\n",
       "      <td>3</td>\n",
       "      <td>0.5315</td>\n",
       "      <td>video, marriag, hotel, healthi, craft, school,...</td>\n",
       "      <td>Woman Who Called Cops On Black Bird-Watcher Lo...</td>\n",
       "      <td>U.S. NEWS</td>\n",
       "      <td>2022-09-22</td>\n",
       "    </tr>\n",
       "    <tr>\n",
       "      <th>...</th>\n",
       "      <td>...</td>\n",
       "      <td>...</td>\n",
       "      <td>...</td>\n",
       "      <td>...</td>\n",
       "      <td>...</td>\n",
       "      <td>...</td>\n",
       "    </tr>\n",
       "    <tr>\n",
       "      <th>187017</th>\n",
       "      <td>2</td>\n",
       "      <td>0.5463</td>\n",
       "      <td>photo, video, week, new, day, divorc, style, b...</td>\n",
       "      <td>Daily Show Correspondent Clip Of The Week: Al ...</td>\n",
       "      <td>COMEDY</td>\n",
       "      <td>2012-01-28</td>\n",
       "    </tr>\n",
       "    <tr>\n",
       "      <th>187018</th>\n",
       "      <td>0</td>\n",
       "      <td>0.6329</td>\n",
       "      <td>studi, poll, health, idea, new, network, guid,...</td>\n",
       "      <td>Mitt Romney Madness: Florida Edition (VIDEO)</td>\n",
       "      <td>COMEDY</td>\n",
       "      <td>2012-01-28</td>\n",
       "    </tr>\n",
       "    <tr>\n",
       "      <th>187019</th>\n",
       "      <td>1</td>\n",
       "      <td>0.5500</td>\n",
       "      <td>parent, tip, dress, kid, thing, life, child, v...</td>\n",
       "      <td>7 Amazing Name Generators (PHOTOS)</td>\n",
       "      <td>COMEDY</td>\n",
       "      <td>2012-01-28</td>\n",
       "    </tr>\n",
       "    <tr>\n",
       "      <th>187020</th>\n",
       "      <td>2</td>\n",
       "      <td>0.3509</td>\n",
       "      <td>photo, video, week, new, day, divorc, style, b...</td>\n",
       "      <td>Russian Cargo Ship Docks At International Spac...</td>\n",
       "      <td>SCIENCE</td>\n",
       "      <td>2012-01-28</td>\n",
       "    </tr>\n",
       "    <tr>\n",
       "      <th>187021</th>\n",
       "      <td>0</td>\n",
       "      <td>0.4011</td>\n",
       "      <td>studi, poll, health, idea, new, network, guid,...</td>\n",
       "      <td>Dwight Howard Rips Teammates After Magic Loss ...</td>\n",
       "      <td>SPORTS</td>\n",
       "      <td>2012-01-28</td>\n",
       "    </tr>\n",
       "  </tbody>\n",
       "</table>\n",
       "<p>187022 rows × 6 columns</p>\n",
       "</div>"
      ],
      "text/plain": [
       "        Dominant_Topic  Perc_Contribution  \\\n",
       "0                    4             0.3399   \n",
       "1                    1             0.7432   \n",
       "2                    1             0.6273   \n",
       "3                    1             0.4880   \n",
       "4                    3             0.5315   \n",
       "...                ...                ...   \n",
       "187017               2             0.5463   \n",
       "187018               0             0.6329   \n",
       "187019               1             0.5500   \n",
       "187020               2             0.3509   \n",
       "187021               0             0.4011   \n",
       "\n",
       "                                           Topic_Keywords  \\\n",
       "0       photo, wed, fashion, way, day, need, talk, vid...   \n",
       "1       parent, tip, dress, kid, thing, life, child, v...   \n",
       "2       parent, tip, dress, kid, thing, life, child, v...   \n",
       "3       parent, tip, dress, kid, thing, life, child, v...   \n",
       "4       video, marriag, hotel, healthi, craft, school,...   \n",
       "...                                                   ...   \n",
       "187017  photo, video, week, new, day, divorc, style, b...   \n",
       "187018  studi, poll, health, idea, new, network, guid,...   \n",
       "187019  parent, tip, dress, kid, thing, life, child, v...   \n",
       "187020  photo, video, week, new, day, divorc, style, b...   \n",
       "187021  studi, poll, health, idea, new, network, guid,...   \n",
       "\n",
       "                                                 headline   category  \\\n",
       "0       Over 4 Million Americans Roll Up Sleeves For O...  U.S. NEWS   \n",
       "1       23 Of The Funniest Tweets About Cats And Dogs ...     COMEDY   \n",
       "2       The Funniest Tweets From Parents This Week (Se...  PARENTING   \n",
       "3       American Airlines Flyer Charged, Banned For Li...  U.S. NEWS   \n",
       "4       Woman Who Called Cops On Black Bird-Watcher Lo...  U.S. NEWS   \n",
       "...                                                   ...        ...   \n",
       "187017  Daily Show Correspondent Clip Of The Week: Al ...     COMEDY   \n",
       "187018       Mitt Romney Madness: Florida Edition (VIDEO)     COMEDY   \n",
       "187019                 7 Amazing Name Generators (PHOTOS)     COMEDY   \n",
       "187020  Russian Cargo Ship Docks At International Spac...    SCIENCE   \n",
       "187021  Dwight Howard Rips Teammates After Magic Loss ...     SPORTS   \n",
       "\n",
       "              date  \n",
       "0       2022-09-23  \n",
       "1       2022-09-23  \n",
       "2       2022-09-23  \n",
       "3       2022-09-23  \n",
       "4       2022-09-22  \n",
       "...            ...  \n",
       "187017  2012-01-28  \n",
       "187018  2012-01-28  \n",
       "187019  2012-01-28  \n",
       "187020  2012-01-28  \n",
       "187021  2012-01-28  \n",
       "\n",
       "[187022 rows x 6 columns]"
      ]
     },
     "execution_count": 178,
     "metadata": {},
     "output_type": "execute_result"
    }
   ],
   "source": [
    "df_dominant_topic = pd.read_csv('data/lda_data.csv')\n",
    "df_dominant_topic"
   ]
  },
  {
   "cell_type": "code",
   "execution_count": 204,
   "metadata": {},
   "outputs": [],
   "source": [
    "df_dominant_topic_corr = df_dominant_topic_groupby[['Dominant_Topic','Category','Count']]\n",
    "df_dominant_topic_corr = df_dominant_topic_corr[df_dominant_topic_groupby[\"Category\"]!='POLITICS']"
   ]
  },
  {
   "cell_type": "code",
   "execution_count": 205,
   "metadata": {},
   "outputs": [
    {
     "data": {
      "text/html": [
       "<div>\n",
       "<style scoped>\n",
       "    .dataframe tbody tr th:only-of-type {\n",
       "        vertical-align: middle;\n",
       "    }\n",
       "\n",
       "    .dataframe tbody tr th {\n",
       "        vertical-align: top;\n",
       "    }\n",
       "\n",
       "    .dataframe thead th {\n",
       "        text-align: right;\n",
       "    }\n",
       "</style>\n",
       "<table border=\"1\" class=\"dataframe\">\n",
       "  <thead>\n",
       "    <tr style=\"text-align: right;\">\n",
       "      <th>Category</th>\n",
       "      <th>ARTS</th>\n",
       "      <th>ARTS &amp; CULTURE</th>\n",
       "      <th>BLACK VOICES</th>\n",
       "      <th>BUSINESS</th>\n",
       "      <th>COLLEGE</th>\n",
       "      <th>COMEDY</th>\n",
       "      <th>CRIME</th>\n",
       "      <th>CULTURE &amp; ARTS</th>\n",
       "      <th>DIVORCE</th>\n",
       "      <th>EDUCATION</th>\n",
       "      <th>...</th>\n",
       "      <th>TECH</th>\n",
       "      <th>THE WORLDPOST</th>\n",
       "      <th>TRAVEL</th>\n",
       "      <th>U.S. NEWS</th>\n",
       "      <th>WEDDINGS</th>\n",
       "      <th>WEIRD NEWS</th>\n",
       "      <th>WELLNESS</th>\n",
       "      <th>WOMEN</th>\n",
       "      <th>WORLD NEWS</th>\n",
       "      <th>WORLDPOST</th>\n",
       "    </tr>\n",
       "    <tr>\n",
       "      <th>Dominant_Topic</th>\n",
       "      <th></th>\n",
       "      <th></th>\n",
       "      <th></th>\n",
       "      <th></th>\n",
       "      <th></th>\n",
       "      <th></th>\n",
       "      <th></th>\n",
       "      <th></th>\n",
       "      <th></th>\n",
       "      <th></th>\n",
       "      <th></th>\n",
       "      <th></th>\n",
       "      <th></th>\n",
       "      <th></th>\n",
       "      <th></th>\n",
       "      <th></th>\n",
       "      <th></th>\n",
       "      <th></th>\n",
       "      <th></th>\n",
       "      <th></th>\n",
       "      <th></th>\n",
       "    </tr>\n",
       "  </thead>\n",
       "  <tbody>\n",
       "    <tr>\n",
       "      <th>0</th>\n",
       "      <td>115</td>\n",
       "      <td>267</td>\n",
       "      <td>793</td>\n",
       "      <td>2037</td>\n",
       "      <td>263</td>\n",
       "      <td>1940</td>\n",
       "      <td>281</td>\n",
       "      <td>114</td>\n",
       "      <td>382</td>\n",
       "      <td>238</td>\n",
       "      <td>...</td>\n",
       "      <td>550</td>\n",
       "      <td>1102</td>\n",
       "      <td>1337</td>\n",
       "      <td>346</td>\n",
       "      <td>349</td>\n",
       "      <td>325</td>\n",
       "      <td>3641</td>\n",
       "      <td>643</td>\n",
       "      <td>928</td>\n",
       "      <td>394</td>\n",
       "    </tr>\n",
       "    <tr>\n",
       "      <th>1</th>\n",
       "      <td>202</td>\n",
       "      <td>288</td>\n",
       "      <td>921</td>\n",
       "      <td>787</td>\n",
       "      <td>198</td>\n",
       "      <td>634</td>\n",
       "      <td>372</td>\n",
       "      <td>185</td>\n",
       "      <td>598</td>\n",
       "      <td>151</td>\n",
       "      <td>...</td>\n",
       "      <td>432</td>\n",
       "      <td>430</td>\n",
       "      <td>2229</td>\n",
       "      <td>197</td>\n",
       "      <td>439</td>\n",
       "      <td>559</td>\n",
       "      <td>4766</td>\n",
       "      <td>718</td>\n",
       "      <td>344</td>\n",
       "      <td>201</td>\n",
       "    </tr>\n",
       "    <tr>\n",
       "      <th>2</th>\n",
       "      <td>278</td>\n",
       "      <td>369</td>\n",
       "      <td>748</td>\n",
       "      <td>638</td>\n",
       "      <td>95</td>\n",
       "      <td>873</td>\n",
       "      <td>155</td>\n",
       "      <td>364</td>\n",
       "      <td>1119</td>\n",
       "      <td>87</td>\n",
       "      <td>...</td>\n",
       "      <td>372</td>\n",
       "      <td>385</td>\n",
       "      <td>2761</td>\n",
       "      <td>152</td>\n",
       "      <td>971</td>\n",
       "      <td>461</td>\n",
       "      <td>2841</td>\n",
       "      <td>433</td>\n",
       "      <td>430</td>\n",
       "      <td>206</td>\n",
       "    </tr>\n",
       "    <tr>\n",
       "      <th>3</th>\n",
       "      <td>131</td>\n",
       "      <td>157</td>\n",
       "      <td>1078</td>\n",
       "      <td>675</td>\n",
       "      <td>259</td>\n",
       "      <td>509</td>\n",
       "      <td>1866</td>\n",
       "      <td>227</td>\n",
       "      <td>634</td>\n",
       "      <td>273</td>\n",
       "      <td>...</td>\n",
       "      <td>353</td>\n",
       "      <td>1346</td>\n",
       "      <td>1386</td>\n",
       "      <td>575</td>\n",
       "      <td>661</td>\n",
       "      <td>544</td>\n",
       "      <td>2504</td>\n",
       "      <td>634</td>\n",
       "      <td>1102</td>\n",
       "      <td>186</td>\n",
       "    </tr>\n",
       "    <tr>\n",
       "      <th>4</th>\n",
       "      <td>137</td>\n",
       "      <td>240</td>\n",
       "      <td>579</td>\n",
       "      <td>978</td>\n",
       "      <td>106</td>\n",
       "      <td>630</td>\n",
       "      <td>154</td>\n",
       "      <td>170</td>\n",
       "      <td>668</td>\n",
       "      <td>152</td>\n",
       "      <td>...</td>\n",
       "      <td>305</td>\n",
       "      <td>394</td>\n",
       "      <td>1674</td>\n",
       "      <td>107</td>\n",
       "      <td>1227</td>\n",
       "      <td>370</td>\n",
       "      <td>3915</td>\n",
       "      <td>677</td>\n",
       "      <td>486</td>\n",
       "      <td>255</td>\n",
       "    </tr>\n",
       "  </tbody>\n",
       "</table>\n",
       "<p>5 rows × 41 columns</p>\n",
       "</div>"
      ],
      "text/plain": [
       "Category        ARTS  ARTS & CULTURE  BLACK VOICES  BUSINESS  COLLEGE  COMEDY  \\\n",
       "Dominant_Topic                                                                  \n",
       "0                115             267           793      2037      263    1940   \n",
       "1                202             288           921       787      198     634   \n",
       "2                278             369           748       638       95     873   \n",
       "3                131             157          1078       675      259     509   \n",
       "4                137             240           579       978      106     630   \n",
       "\n",
       "Category        CRIME  CULTURE & ARTS  DIVORCE  EDUCATION  ...  TECH  \\\n",
       "Dominant_Topic                                             ...         \n",
       "0                 281             114      382        238  ...   550   \n",
       "1                 372             185      598        151  ...   432   \n",
       "2                 155             364     1119         87  ...   372   \n",
       "3                1866             227      634        273  ...   353   \n",
       "4                 154             170      668        152  ...   305   \n",
       "\n",
       "Category        THE WORLDPOST  TRAVEL  U.S. NEWS  WEDDINGS  WEIRD NEWS  \\\n",
       "Dominant_Topic                                                           \n",
       "0                        1102    1337        346       349         325   \n",
       "1                         430    2229        197       439         559   \n",
       "2                         385    2761        152       971         461   \n",
       "3                        1346    1386        575       661         544   \n",
       "4                         394    1674        107      1227         370   \n",
       "\n",
       "Category        WELLNESS  WOMEN  WORLD NEWS  WORLDPOST  \n",
       "Dominant_Topic                                          \n",
       "0                   3641    643         928        394  \n",
       "1                   4766    718         344        201  \n",
       "2                   2841    433         430        206  \n",
       "3                   2504    634        1102        186  \n",
       "4                   3915    677         486        255  \n",
       "\n",
       "[5 rows x 41 columns]"
      ]
     },
     "execution_count": 205,
     "metadata": {},
     "output_type": "execute_result"
    }
   ],
   "source": [
    "heatmap_data = df_dominant_topic_corr.pivot(index='Dominant_Topic', columns='Category', values='Count')\n",
    "heatmap_data"
   ]
  },
  {
   "cell_type": "code",
   "execution_count": 207,
   "metadata": {},
   "outputs": [
    {
     "data": {
      "application/vnd.plotly.v1+json": {
       "config": {
        "plotlyServerURL": "https://plot.ly"
       },
       "data": [
        {
         "coloraxis": "coloraxis",
         "hovertemplate": "Category: %{x}<br>Dominant_Topic: %{y}<br>color: %{z}<extra></extra>",
         "name": "0",
         "texttemplate": "%{z}",
         "type": "heatmap",
         "x": [
          "ARTS",
          "ARTS & CULTURE",
          "BLACK VOICES",
          "BUSINESS",
          "COLLEGE",
          "COMEDY",
          "CRIME",
          "CULTURE & ARTS",
          "DIVORCE",
          "EDUCATION",
          "ENTERTAINMENT",
          "ENVIRONMENT",
          "FIFTY",
          "FOOD & DRINK",
          "GOOD NEWS",
          "GREEN",
          "HEALTHY LIVING",
          "HOME & LIVING",
          "IMPACT",
          "LATINO VOICES",
          "MEDIA",
          "MONEY",
          "PARENTING",
          "PARENTS",
          "QUEER VOICES",
          "RELIGION",
          "SCIENCE",
          "SPORTS",
          "STYLE",
          "STYLE & BEAUTY",
          "TASTE",
          "TECH",
          "THE WORLDPOST",
          "TRAVEL",
          "U.S. NEWS",
          "WEDDINGS",
          "WEIRD NEWS",
          "WELLNESS",
          "WOMEN",
          "WORLD NEWS",
          "WORLDPOST"
         ],
         "xaxis": "x",
         "y": [
          0,
          1,
          2,
          3,
          4
         ],
         "yaxis": "y",
         "z": [
          [
           115,
           267,
           793,
           2037,
           263,
           1940,
           281,
           114,
           382,
           238,
           2055,
           360,
           154,
           737,
           99,
           655,
           1142,
           539,
           777,
           330,
           1241,
           672,
           967,
           325,
           870,
           472,
           413,
           643,
           144,
           765,
           287,
           550,
           1102,
           1337,
           346,
           349,
           325,
           3641,
           643,
           928,
           394
          ],
          [
           202,
           288,
           921,
           787,
           198,
           634,
           372,
           185,
           598,
           151,
           2148,
           279,
           286,
           1578,
           330,
           472,
           1316,
           945,
           789,
           122,
           222,
           372,
           2657,
           952,
           1319,
           316,
           336,
           682,
           298,
           1465,
           474,
           432,
           430,
           2229,
           197,
           439,
           559,
           4766,
           718,
           344,
           201
          ],
          [
           278,
           369,
           748,
           638,
           95,
           873,
           155,
           364,
           1119,
           87,
           4462,
           334,
           203,
           2228,
           201,
           317,
           712,
           1384,
           458,
           207,
           321,
           179,
           1493,
           655,
           864,
           299,
           563,
           1193,
           442,
           3577,
           520,
           372,
           385,
           2761,
           152,
           971,
           461,
           2841,
           433,
           430,
           206
          ],
          [
           131,
           157,
           1078,
           675,
           259,
           509,
           1866,
           227,
           634,
           273,
           2921,
           186,
           126,
           495,
           211,
           260,
           731,
           358,
           489,
           168,
           351,
           282,
           1434,
           529,
           1502,
           492,
           196,
           1312,
           144,
           807,
           169,
           353,
           1346,
           1386,
           575,
           661,
           544,
           2504,
           634,
           1102,
           186
          ],
          [
           137,
           240,
           579,
           978,
           106,
           630,
           154,
           170,
           668,
           152,
           2969,
           279,
           273,
           1282,
           186,
           330,
           1296,
           920,
           562,
           192,
           252,
           250,
           2187,
           972,
           883,
           220,
           283,
           549,
           472,
           2704,
           454,
           305,
           394,
           1674,
           107,
           1227,
           370,
           3915,
           677,
           486,
           255
          ]
         ]
        }
       ],
       "layout": {
        "coloraxis": {
         "colorscale": [
          [
           0,
           "rgb(209, 238, 234)"
          ],
          [
           0.16666666666666666,
           "rgb(168, 219, 217)"
          ],
          [
           0.3333333333333333,
           "rgb(133, 196, 201)"
          ],
          [
           0.5,
           "rgb(104, 171, 184)"
          ],
          [
           0.6666666666666666,
           "rgb(79, 144, 166)"
          ],
          [
           0.8333333333333334,
           "rgb(59, 115, 143)"
          ],
          [
           1,
           "rgb(42, 86, 116)"
          ]
         ]
        },
        "margin": {
         "t": 60
        },
        "template": {
         "data": {
          "bar": [
           {
            "error_x": {
             "color": "#2a3f5f"
            },
            "error_y": {
             "color": "#2a3f5f"
            },
            "marker": {
             "line": {
              "color": "#E5ECF6",
              "width": 0.5
             },
             "pattern": {
              "fillmode": "overlay",
              "size": 10,
              "solidity": 0.2
             }
            },
            "type": "bar"
           }
          ],
          "barpolar": [
           {
            "marker": {
             "line": {
              "color": "#E5ECF6",
              "width": 0.5
             },
             "pattern": {
              "fillmode": "overlay",
              "size": 10,
              "solidity": 0.2
             }
            },
            "type": "barpolar"
           }
          ],
          "carpet": [
           {
            "aaxis": {
             "endlinecolor": "#2a3f5f",
             "gridcolor": "white",
             "linecolor": "white",
             "minorgridcolor": "white",
             "startlinecolor": "#2a3f5f"
            },
            "baxis": {
             "endlinecolor": "#2a3f5f",
             "gridcolor": "white",
             "linecolor": "white",
             "minorgridcolor": "white",
             "startlinecolor": "#2a3f5f"
            },
            "type": "carpet"
           }
          ],
          "choropleth": [
           {
            "colorbar": {
             "outlinewidth": 0,
             "ticks": ""
            },
            "type": "choropleth"
           }
          ],
          "contour": [
           {
            "colorbar": {
             "outlinewidth": 0,
             "ticks": ""
            },
            "colorscale": [
             [
              0,
              "#0d0887"
             ],
             [
              0.1111111111111111,
              "#46039f"
             ],
             [
              0.2222222222222222,
              "#7201a8"
             ],
             [
              0.3333333333333333,
              "#9c179e"
             ],
             [
              0.4444444444444444,
              "#bd3786"
             ],
             [
              0.5555555555555556,
              "#d8576b"
             ],
             [
              0.6666666666666666,
              "#ed7953"
             ],
             [
              0.7777777777777778,
              "#fb9f3a"
             ],
             [
              0.8888888888888888,
              "#fdca26"
             ],
             [
              1,
              "#f0f921"
             ]
            ],
            "type": "contour"
           }
          ],
          "contourcarpet": [
           {
            "colorbar": {
             "outlinewidth": 0,
             "ticks": ""
            },
            "type": "contourcarpet"
           }
          ],
          "heatmap": [
           {
            "colorbar": {
             "outlinewidth": 0,
             "ticks": ""
            },
            "colorscale": [
             [
              0,
              "#0d0887"
             ],
             [
              0.1111111111111111,
              "#46039f"
             ],
             [
              0.2222222222222222,
              "#7201a8"
             ],
             [
              0.3333333333333333,
              "#9c179e"
             ],
             [
              0.4444444444444444,
              "#bd3786"
             ],
             [
              0.5555555555555556,
              "#d8576b"
             ],
             [
              0.6666666666666666,
              "#ed7953"
             ],
             [
              0.7777777777777778,
              "#fb9f3a"
             ],
             [
              0.8888888888888888,
              "#fdca26"
             ],
             [
              1,
              "#f0f921"
             ]
            ],
            "type": "heatmap"
           }
          ],
          "heatmapgl": [
           {
            "colorbar": {
             "outlinewidth": 0,
             "ticks": ""
            },
            "colorscale": [
             [
              0,
              "#0d0887"
             ],
             [
              0.1111111111111111,
              "#46039f"
             ],
             [
              0.2222222222222222,
              "#7201a8"
             ],
             [
              0.3333333333333333,
              "#9c179e"
             ],
             [
              0.4444444444444444,
              "#bd3786"
             ],
             [
              0.5555555555555556,
              "#d8576b"
             ],
             [
              0.6666666666666666,
              "#ed7953"
             ],
             [
              0.7777777777777778,
              "#fb9f3a"
             ],
             [
              0.8888888888888888,
              "#fdca26"
             ],
             [
              1,
              "#f0f921"
             ]
            ],
            "type": "heatmapgl"
           }
          ],
          "histogram": [
           {
            "marker": {
             "pattern": {
              "fillmode": "overlay",
              "size": 10,
              "solidity": 0.2
             }
            },
            "type": "histogram"
           }
          ],
          "histogram2d": [
           {
            "colorbar": {
             "outlinewidth": 0,
             "ticks": ""
            },
            "colorscale": [
             [
              0,
              "#0d0887"
             ],
             [
              0.1111111111111111,
              "#46039f"
             ],
             [
              0.2222222222222222,
              "#7201a8"
             ],
             [
              0.3333333333333333,
              "#9c179e"
             ],
             [
              0.4444444444444444,
              "#bd3786"
             ],
             [
              0.5555555555555556,
              "#d8576b"
             ],
             [
              0.6666666666666666,
              "#ed7953"
             ],
             [
              0.7777777777777778,
              "#fb9f3a"
             ],
             [
              0.8888888888888888,
              "#fdca26"
             ],
             [
              1,
              "#f0f921"
             ]
            ],
            "type": "histogram2d"
           }
          ],
          "histogram2dcontour": [
           {
            "colorbar": {
             "outlinewidth": 0,
             "ticks": ""
            },
            "colorscale": [
             [
              0,
              "#0d0887"
             ],
             [
              0.1111111111111111,
              "#46039f"
             ],
             [
              0.2222222222222222,
              "#7201a8"
             ],
             [
              0.3333333333333333,
              "#9c179e"
             ],
             [
              0.4444444444444444,
              "#bd3786"
             ],
             [
              0.5555555555555556,
              "#d8576b"
             ],
             [
              0.6666666666666666,
              "#ed7953"
             ],
             [
              0.7777777777777778,
              "#fb9f3a"
             ],
             [
              0.8888888888888888,
              "#fdca26"
             ],
             [
              1,
              "#f0f921"
             ]
            ],
            "type": "histogram2dcontour"
           }
          ],
          "mesh3d": [
           {
            "colorbar": {
             "outlinewidth": 0,
             "ticks": ""
            },
            "type": "mesh3d"
           }
          ],
          "parcoords": [
           {
            "line": {
             "colorbar": {
              "outlinewidth": 0,
              "ticks": ""
             }
            },
            "type": "parcoords"
           }
          ],
          "pie": [
           {
            "automargin": true,
            "type": "pie"
           }
          ],
          "scatter": [
           {
            "fillpattern": {
             "fillmode": "overlay",
             "size": 10,
             "solidity": 0.2
            },
            "type": "scatter"
           }
          ],
          "scatter3d": [
           {
            "line": {
             "colorbar": {
              "outlinewidth": 0,
              "ticks": ""
             }
            },
            "marker": {
             "colorbar": {
              "outlinewidth": 0,
              "ticks": ""
             }
            },
            "type": "scatter3d"
           }
          ],
          "scattercarpet": [
           {
            "marker": {
             "colorbar": {
              "outlinewidth": 0,
              "ticks": ""
             }
            },
            "type": "scattercarpet"
           }
          ],
          "scattergeo": [
           {
            "marker": {
             "colorbar": {
              "outlinewidth": 0,
              "ticks": ""
             }
            },
            "type": "scattergeo"
           }
          ],
          "scattergl": [
           {
            "marker": {
             "colorbar": {
              "outlinewidth": 0,
              "ticks": ""
             }
            },
            "type": "scattergl"
           }
          ],
          "scattermapbox": [
           {
            "marker": {
             "colorbar": {
              "outlinewidth": 0,
              "ticks": ""
             }
            },
            "type": "scattermapbox"
           }
          ],
          "scatterpolar": [
           {
            "marker": {
             "colorbar": {
              "outlinewidth": 0,
              "ticks": ""
             }
            },
            "type": "scatterpolar"
           }
          ],
          "scatterpolargl": [
           {
            "marker": {
             "colorbar": {
              "outlinewidth": 0,
              "ticks": ""
             }
            },
            "type": "scatterpolargl"
           }
          ],
          "scatterternary": [
           {
            "marker": {
             "colorbar": {
              "outlinewidth": 0,
              "ticks": ""
             }
            },
            "type": "scatterternary"
           }
          ],
          "surface": [
           {
            "colorbar": {
             "outlinewidth": 0,
             "ticks": ""
            },
            "colorscale": [
             [
              0,
              "#0d0887"
             ],
             [
              0.1111111111111111,
              "#46039f"
             ],
             [
              0.2222222222222222,
              "#7201a8"
             ],
             [
              0.3333333333333333,
              "#9c179e"
             ],
             [
              0.4444444444444444,
              "#bd3786"
             ],
             [
              0.5555555555555556,
              "#d8576b"
             ],
             [
              0.6666666666666666,
              "#ed7953"
             ],
             [
              0.7777777777777778,
              "#fb9f3a"
             ],
             [
              0.8888888888888888,
              "#fdca26"
             ],
             [
              1,
              "#f0f921"
             ]
            ],
            "type": "surface"
           }
          ],
          "table": [
           {
            "cells": {
             "fill": {
              "color": "#EBF0F8"
             },
             "line": {
              "color": "white"
             }
            },
            "header": {
             "fill": {
              "color": "#C8D4E3"
             },
             "line": {
              "color": "white"
             }
            },
            "type": "table"
           }
          ]
         },
         "layout": {
          "annotationdefaults": {
           "arrowcolor": "#2a3f5f",
           "arrowhead": 0,
           "arrowwidth": 1
          },
          "autotypenumbers": "strict",
          "coloraxis": {
           "colorbar": {
            "outlinewidth": 0,
            "ticks": ""
           }
          },
          "colorscale": {
           "diverging": [
            [
             0,
             "#8e0152"
            ],
            [
             0.1,
             "#c51b7d"
            ],
            [
             0.2,
             "#de77ae"
            ],
            [
             0.3,
             "#f1b6da"
            ],
            [
             0.4,
             "#fde0ef"
            ],
            [
             0.5,
             "#f7f7f7"
            ],
            [
             0.6,
             "#e6f5d0"
            ],
            [
             0.7,
             "#b8e186"
            ],
            [
             0.8,
             "#7fbc41"
            ],
            [
             0.9,
             "#4d9221"
            ],
            [
             1,
             "#276419"
            ]
           ],
           "sequential": [
            [
             0,
             "#0d0887"
            ],
            [
             0.1111111111111111,
             "#46039f"
            ],
            [
             0.2222222222222222,
             "#7201a8"
            ],
            [
             0.3333333333333333,
             "#9c179e"
            ],
            [
             0.4444444444444444,
             "#bd3786"
            ],
            [
             0.5555555555555556,
             "#d8576b"
            ],
            [
             0.6666666666666666,
             "#ed7953"
            ],
            [
             0.7777777777777778,
             "#fb9f3a"
            ],
            [
             0.8888888888888888,
             "#fdca26"
            ],
            [
             1,
             "#f0f921"
            ]
           ],
           "sequentialminus": [
            [
             0,
             "#0d0887"
            ],
            [
             0.1111111111111111,
             "#46039f"
            ],
            [
             0.2222222222222222,
             "#7201a8"
            ],
            [
             0.3333333333333333,
             "#9c179e"
            ],
            [
             0.4444444444444444,
             "#bd3786"
            ],
            [
             0.5555555555555556,
             "#d8576b"
            ],
            [
             0.6666666666666666,
             "#ed7953"
            ],
            [
             0.7777777777777778,
             "#fb9f3a"
            ],
            [
             0.8888888888888888,
             "#fdca26"
            ],
            [
             1,
             "#f0f921"
            ]
           ]
          },
          "colorway": [
           "#636efa",
           "#EF553B",
           "#00cc96",
           "#ab63fa",
           "#FFA15A",
           "#19d3f3",
           "#FF6692",
           "#B6E880",
           "#FF97FF",
           "#FECB52"
          ],
          "font": {
           "color": "#2a3f5f"
          },
          "geo": {
           "bgcolor": "white",
           "lakecolor": "white",
           "landcolor": "#E5ECF6",
           "showlakes": true,
           "showland": true,
           "subunitcolor": "white"
          },
          "hoverlabel": {
           "align": "left"
          },
          "hovermode": "closest",
          "mapbox": {
           "style": "light"
          },
          "paper_bgcolor": "white",
          "plot_bgcolor": "#E5ECF6",
          "polar": {
           "angularaxis": {
            "gridcolor": "white",
            "linecolor": "white",
            "ticks": ""
           },
           "bgcolor": "#E5ECF6",
           "radialaxis": {
            "gridcolor": "white",
            "linecolor": "white",
            "ticks": ""
           }
          },
          "scene": {
           "xaxis": {
            "backgroundcolor": "#E5ECF6",
            "gridcolor": "white",
            "gridwidth": 2,
            "linecolor": "white",
            "showbackground": true,
            "ticks": "",
            "zerolinecolor": "white"
           },
           "yaxis": {
            "backgroundcolor": "#E5ECF6",
            "gridcolor": "white",
            "gridwidth": 2,
            "linecolor": "white",
            "showbackground": true,
            "ticks": "",
            "zerolinecolor": "white"
           },
           "zaxis": {
            "backgroundcolor": "#E5ECF6",
            "gridcolor": "white",
            "gridwidth": 2,
            "linecolor": "white",
            "showbackground": true,
            "ticks": "",
            "zerolinecolor": "white"
           }
          },
          "shapedefaults": {
           "line": {
            "color": "#2a3f5f"
           }
          },
          "ternary": {
           "aaxis": {
            "gridcolor": "white",
            "linecolor": "white",
            "ticks": ""
           },
           "baxis": {
            "gridcolor": "white",
            "linecolor": "white",
            "ticks": ""
           },
           "bgcolor": "#E5ECF6",
           "caxis": {
            "gridcolor": "white",
            "linecolor": "white",
            "ticks": ""
           }
          },
          "title": {
           "x": 0.05
          },
          "xaxis": {
           "automargin": true,
           "gridcolor": "white",
           "linecolor": "white",
           "ticks": "",
           "title": {
            "standoff": 15
           },
           "zerolinecolor": "white",
           "zerolinewidth": 2
          },
          "yaxis": {
           "automargin": true,
           "gridcolor": "white",
           "linecolor": "white",
           "ticks": "",
           "title": {
            "standoff": 15
           },
           "zerolinecolor": "white",
           "zerolinewidth": 2
          }
         }
        },
        "xaxis": {
         "anchor": "y",
         "domain": [
          0,
          1
         ],
         "title": {
          "text": "Category (Excluding POLICTICS)"
         }
        },
        "yaxis": {
         "anchor": "x",
         "autorange": true,
         "domain": [
          0,
          1
         ],
         "title": {
          "text": "Dominate Topic"
         }
        }
       }
      }
     },
     "metadata": {},
     "output_type": "display_data"
    }
   ],
   "source": [
    "# px.imshow(heatmap_data, text_auto=True, aspect=\"auto\")\n",
    "\n",
    "fig = px.imshow(heatmap_data, color_continuous_scale='Teal', origin='lower', text_auto=True, aspect=\"auto\")\n",
    "\n",
    "fig.update_yaxes(title='Dominate Topic')\n",
    "fig.update_xaxes(title='Category (Excluding POLICTICS)')\n",
    "fig.show()"
   ]
  },
  {
   "cell_type": "code",
   "execution_count": null,
   "metadata": {},
   "outputs": [],
   "source": []
  }
 ],
 "metadata": {
  "kernelspec": {
   "display_name": ".venv",
   "language": "python",
   "name": "python3"
  },
  "language_info": {
   "codemirror_mode": {
    "name": "ipython",
    "version": 3
   },
   "file_extension": ".py",
   "mimetype": "text/x-python",
   "name": "python",
   "nbconvert_exporter": "python",
   "pygments_lexer": "ipython3",
   "version": "3.10.10 (main, Feb 20 2023, 20:17:57) [Clang 14.0.0 (clang-1400.0.29.202)]"
  },
  "orig_nbformat": 4,
  "vscode": {
   "interpreter": {
    "hash": "e63d73fe1043587723a932559fd3ea11ed24d928b7ad450cb3ce16715aed1b2e"
   }
  }
 },
 "nbformat": 4,
 "nbformat_minor": 2
}
